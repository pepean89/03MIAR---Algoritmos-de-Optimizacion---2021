{
  "nbformat": 4,
  "nbformat_minor": 0,
  "metadata": {
    "colab": {
      "name": "03MIAR_Trabajo_Practico_Jose_Andres.ipynb",
      "provenance": [],
      "authorship_tag": "ABX9TyOiYnDR/eoVePNvFsTFnCWf",
      "include_colab_link": true
    },
    "kernelspec": {
      "name": "python3",
      "display_name": "Python 3"
    },
    "language_info": {
      "name": "python"
    }
  },
  "cells": [
    {
      "cell_type": "markdown",
      "metadata": {
        "id": "view-in-github",
        "colab_type": "text"
      },
      "source": [
        "<a href=\"https://colab.research.google.com/github/pepean89/03MIAR---Algoritmos-de-Optimizacion---2021/blob/main/03MIAR_Trabajo_Practico_Jose_Andres.ipynb\" target=\"_parent\"><img src=\"https://colab.research.google.com/assets/colab-badge.svg\" alt=\"Open In Colab\"/></a>"
      ]
    },
    {
      "cell_type": "markdown",
      "metadata": {
        "id": "0FfYWX-68fY2"
      },
      "source": [
        "# Algoritmos de optimización - Trabajo Final<br>\n",
        "\n",
        "Nombre y Apellidos: José Andrés Ramírez  <br>\n",
        "Url: https://github.com/pepean89/03MIAR---Algoritmos-de-Optimizacion---2021/blob/main/Algoritmos_TrabajoPractico_JoseAndres.ipynb<br>\n",
        "Problema:\n",
        "\n",
        ">2. Organizar los horarios de partidos de La Liga<br>\n",
        "\n",
        "__Descripción del problema:__\n",
        "\n",
        "* Desde la La Liga de fútbol profesional se pretende organizar los horarios de los partidos de liga de cada jornada. Se conocen algunos datos que nos deben llevar a diseñar un algoritmo que realice la asignación de los partidos a los horarios de forma que maximice la audiencia.\n",
        "\n",
        "* Los horarios disponibles se conocen a priori.\n",
        "\n",
        "* En primer lugar se clasifican los equipos en tres categorías según el numero de seguidores( que tiene relación directa con la audiencia). Hay 3 equipos en la categoría A, 11 equipos de categoría B y 6 equipos de categoría C.\n",
        "\n",
        "* Se conoce estadisticamente la audiencia que genera cada partido según los equipos que se enfrentan y en horario de sábado a las 20h (el mejor en todos los casos)\n",
        "\n",
        "* Si el horario del partido no se realiza a las 20 horas del sábado se sabe que se reduce según unos coeficientes conocidos.\n",
        "\n",
        "* Debemos asignar obligatoriamente siempre un partido el viernes y un partido el lunes.\n",
        "\n",
        "* Es posible la coincidencia de horarios pero en este caso la audiencia de cada partido se verá afectada y se estima que se reduce en porcentaje conocido dependiendo del número de coincidencias.\n",
        "\n",
        "(*) La respuesta es obligatoria"
      ]
    },
    {
      "cell_type": "code",
      "metadata": {
        "id": "DIGBvcxJ8kWt"
      },
      "source": [
        "# Vamos a importar antes de empezar las librerías necesarias para ejecutar el cuaderno:\n",
        "\n",
        "import numpy as np\n",
        "import pandas as pd\n",
        "from random import shuffle, choice\n",
        "from itertools import product"
      ],
      "execution_count": 1,
      "outputs": []
    },
    {
      "cell_type": "markdown",
      "metadata": {
        "id": "mJ3wqWcK8qKh"
      },
      "source": [
        "## __Pregunta 1__"
      ]
    },
    {
      "cell_type": "markdown",
      "metadata": {
        "id": "SYk0BMhr80F9"
      },
      "source": [
        "* (*)¿Cuantas posibilidades hay sin tener en cuenta las restricciones?\n",
        "\n",
        "* ¿Cuantas posibilidades hay teniendo en cuenta todas las restricciones."
      ]
    },
    {
      "cell_type": "markdown",
      "metadata": {
        "id": "Dmxz_uNp80Ql"
      },
      "source": [
        "___Respuesta:___"
      ]
    },
    {
      "cell_type": "markdown",
      "metadata": {
        "id": "5VXPif-u80aq"
      },
      "source": [
        "En este problema, la restricción que se impone es que siempre debe de haber asignados al menos un partido al horario de viernes 20h (V20) y otro al horario de lunes 20h (L20). "
      ]
    },
    {
      "cell_type": "markdown",
      "metadata": {
        "id": "mCwfmsK480k9"
      },
      "source": [
        "En el caso de explorar las posibilidades sin contar con las restricciones, nos encontramos en un problema de variación con repetición, en el que de un conjunto de $n=10$ elementos (horarios), debemos tomar $k=10$ opciones (partidos), considerando que cada horario se puede elegir libremente en más de una ocasión y el orden de elección sí importa. La fórmula que cuenta el numero de opciones es:"
      ]
    },
    {
      "cell_type": "markdown",
      "metadata": {
        "id": "sjBUSzU280ul"
      },
      "source": [
        "$$\n",
        "VR_{n,k} = n^k\n",
        "$$"
      ]
    },
    {
      "cell_type": "markdown",
      "metadata": {
        "id": "KAt2D59P803n"
      },
      "source": [
        "Así, el número de posibilidades ___SIN___ restricciones es de __10.000.000.000__."
      ]
    },
    {
      "cell_type": "markdown",
      "metadata": {
        "id": "N4ELBGOT81DL"
      },
      "source": [
        "Ahora, si tuviéramos en cuenta las restricciones, deberíamos considerar que un cierto número de las variaciones generadas no contarán con los horarios del viernes 20h (V20) o lunes 20h (L20). En particular, la situación se podría representar gráficamente como sigue:"
      ]
    },
    {
      "cell_type": "markdown",
      "metadata": {
        "id": "DBUMfWTi81N6"
      },
      "source": [
        "![imagen.png](data:image/png;base64,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)"
      ]
    },
    {
      "cell_type": "markdown",
      "metadata": {
        "id": "WTOk9WSh81X4"
      },
      "source": [
        "Para el cálculo de variaciones con las restricciones del problema habría que deducir el equivalente a retirar del conjunto de horarios, por una parte 'V20', y por otra parte 'L20'. Dicho de otro modo, al número total de variaciones con repetición, se le restaría 2 veces el número de variaciones con repetición con $n'=n-1$ y $k=10$. Además, habría que mantener en la cuenta de soluciones válidas la intersección entre los dos conjuntos anteriores, calculada como el número de variaciones con repetición con $n''=n'-1=n-2$ y $k=10$. Esto es: "
      ]
    },
    {
      "cell_type": "markdown",
      "metadata": {
        "id": "N9PsrNPd81fz"
      },
      "source": [
        "$$\n",
        "Soluciones = n^k - 2(n-1)^k + (n-2)^k\n",
        "$$"
      ]
    },
    {
      "cell_type": "markdown",
      "metadata": {
        "id": "usS78kBI81ou"
      },
      "source": [
        "El número de posibilidades considerando las restricciones es de __4.100.173.022__."
      ]
    },
    {
      "cell_type": "markdown",
      "metadata": {
        "id": "9B9UhnqR81ww"
      },
      "source": [
        "## __Pregunta 2__"
      ]
    },
    {
      "cell_type": "markdown",
      "metadata": {
        "id": "zIXnUgLI82BU"
      },
      "source": [
        "Modelo para el espacio de soluciones:\n",
        "* (*) ¿Cuál es la estructura de datos que mejor se adapta al problema? Arguméntalo.(Es posible que hayas elegido una al principio y veas la necesidad de cambiar, arguméntalo)"
      ]
    },
    {
      "cell_type": "markdown",
      "metadata": {
        "id": "itfpdjqm9hm-"
      },
      "source": [
        "___Respuesta:___"
      ]
    },
    {
      "cell_type": "code",
      "metadata": {
        "id": "-pmpRz258sFM"
      },
      "source": [
        "# Tabulamos los datos referentes a los equipos individuales, para continuar haciendo una asignación aleatoria y generar los 10 partidos:\n",
        "\n",
        "datos_equipos = {'Celta':'B', 'Real Madrid':'A', 'Valencia':'B', 'Real Sociedad':'A', 'Mallorca':'C', 'Eibar':'C', 'Athletic Bilbao':'B', 'Barcelona':'A'\n",
        "           , 'Leganés':'C', 'Osasuna':'C', 'Villareal':'B', 'Granada':'C', 'Alavés':'B', 'Levante':'B', 'Espanyol':'B', 'Sevilla':'B'\n",
        "           , 'Betis':'B', 'Valladolid':'C', 'Atlético de Madrid':'B', 'Getafe':'B'}\n",
        "\n",
        "equipos = list(datos_equipos.keys())\n",
        "categorias = list(datos_equipos.values())\n",
        "\n",
        "shuffle(equipos)\n",
        "partidos = [[equipos[2*x],equipos[2*x + 1]] for x in range(10)]\n",
        "categoria = [[datos_equipos[partidos[i][0]],datos_equipos[partidos[i][1]]] for i, partido in enumerate(partidos)]\n",
        "\n",
        "\n",
        "pd_datos = pd.DataFrame([partidos,categoria], index=['Partido', 'Categoria']).T\n",
        "pd_datos['Audiencia base'] = np.nan\n",
        "pd_datos['Horario'] = np.nan\n",
        "pd_datos['Ponderacion'] = np.nan\n",
        "pd_datos['Partidos simultaneos'] = np.nan\n",
        "pd_datos['F coincidencia'] = np.nan\n",
        "pd_datos['Audiencia estimada'] = np.nan"
      ],
      "execution_count": 2,
      "outputs": []
    },
    {
      "cell_type": "code",
      "metadata": {
        "colab": {
          "base_uri": "https://localhost:8080/",
          "height": 363
        },
        "id": "2Ij3RrAX8oB-",
        "outputId": "b0f9689b-51c4-4396-aeaa-44b94a550604"
      },
      "source": [
        "display(pd_datos)"
      ],
      "execution_count": 3,
      "outputs": [
        {
          "output_type": "display_data",
          "data": {
            "text/html": [
              "<div>\n",
              "<style scoped>\n",
              "    .dataframe tbody tr th:only-of-type {\n",
              "        vertical-align: middle;\n",
              "    }\n",
              "\n",
              "    .dataframe tbody tr th {\n",
              "        vertical-align: top;\n",
              "    }\n",
              "\n",
              "    .dataframe thead th {\n",
              "        text-align: right;\n",
              "    }\n",
              "</style>\n",
              "<table border=\"1\" class=\"dataframe\">\n",
              "  <thead>\n",
              "    <tr style=\"text-align: right;\">\n",
              "      <th></th>\n",
              "      <th>Partido</th>\n",
              "      <th>Categoria</th>\n",
              "      <th>Audiencia base</th>\n",
              "      <th>Horario</th>\n",
              "      <th>Ponderacion</th>\n",
              "      <th>Partidos simultaneos</th>\n",
              "      <th>F coincidencia</th>\n",
              "      <th>Audiencia estimada</th>\n",
              "    </tr>\n",
              "  </thead>\n",
              "  <tbody>\n",
              "    <tr>\n",
              "      <th>0</th>\n",
              "      <td>[Atlético de Madrid, Barcelona]</td>\n",
              "      <td>[B, A]</td>\n",
              "      <td>NaN</td>\n",
              "      <td>NaN</td>\n",
              "      <td>NaN</td>\n",
              "      <td>NaN</td>\n",
              "      <td>NaN</td>\n",
              "      <td>NaN</td>\n",
              "    </tr>\n",
              "    <tr>\n",
              "      <th>1</th>\n",
              "      <td>[Eibar, Valencia]</td>\n",
              "      <td>[C, B]</td>\n",
              "      <td>NaN</td>\n",
              "      <td>NaN</td>\n",
              "      <td>NaN</td>\n",
              "      <td>NaN</td>\n",
              "      <td>NaN</td>\n",
              "      <td>NaN</td>\n",
              "    </tr>\n",
              "    <tr>\n",
              "      <th>2</th>\n",
              "      <td>[Leganés, Real Sociedad]</td>\n",
              "      <td>[C, A]</td>\n",
              "      <td>NaN</td>\n",
              "      <td>NaN</td>\n",
              "      <td>NaN</td>\n",
              "      <td>NaN</td>\n",
              "      <td>NaN</td>\n",
              "      <td>NaN</td>\n",
              "    </tr>\n",
              "    <tr>\n",
              "      <th>3</th>\n",
              "      <td>[Betis, Getafe]</td>\n",
              "      <td>[B, B]</td>\n",
              "      <td>NaN</td>\n",
              "      <td>NaN</td>\n",
              "      <td>NaN</td>\n",
              "      <td>NaN</td>\n",
              "      <td>NaN</td>\n",
              "      <td>NaN</td>\n",
              "    </tr>\n",
              "    <tr>\n",
              "      <th>4</th>\n",
              "      <td>[Espanyol, Sevilla]</td>\n",
              "      <td>[B, B]</td>\n",
              "      <td>NaN</td>\n",
              "      <td>NaN</td>\n",
              "      <td>NaN</td>\n",
              "      <td>NaN</td>\n",
              "      <td>NaN</td>\n",
              "      <td>NaN</td>\n",
              "    </tr>\n",
              "    <tr>\n",
              "      <th>5</th>\n",
              "      <td>[Villareal, Mallorca]</td>\n",
              "      <td>[B, C]</td>\n",
              "      <td>NaN</td>\n",
              "      <td>NaN</td>\n",
              "      <td>NaN</td>\n",
              "      <td>NaN</td>\n",
              "      <td>NaN</td>\n",
              "      <td>NaN</td>\n",
              "    </tr>\n",
              "    <tr>\n",
              "      <th>6</th>\n",
              "      <td>[Alavés, Osasuna]</td>\n",
              "      <td>[B, C]</td>\n",
              "      <td>NaN</td>\n",
              "      <td>NaN</td>\n",
              "      <td>NaN</td>\n",
              "      <td>NaN</td>\n",
              "      <td>NaN</td>\n",
              "      <td>NaN</td>\n",
              "    </tr>\n",
              "    <tr>\n",
              "      <th>7</th>\n",
              "      <td>[Levante, Real Madrid]</td>\n",
              "      <td>[B, A]</td>\n",
              "      <td>NaN</td>\n",
              "      <td>NaN</td>\n",
              "      <td>NaN</td>\n",
              "      <td>NaN</td>\n",
              "      <td>NaN</td>\n",
              "      <td>NaN</td>\n",
              "    </tr>\n",
              "    <tr>\n",
              "      <th>8</th>\n",
              "      <td>[Valladolid, Celta]</td>\n",
              "      <td>[C, B]</td>\n",
              "      <td>NaN</td>\n",
              "      <td>NaN</td>\n",
              "      <td>NaN</td>\n",
              "      <td>NaN</td>\n",
              "      <td>NaN</td>\n",
              "      <td>NaN</td>\n",
              "    </tr>\n",
              "    <tr>\n",
              "      <th>9</th>\n",
              "      <td>[Athletic Bilbao, Granada]</td>\n",
              "      <td>[B, C]</td>\n",
              "      <td>NaN</td>\n",
              "      <td>NaN</td>\n",
              "      <td>NaN</td>\n",
              "      <td>NaN</td>\n",
              "      <td>NaN</td>\n",
              "      <td>NaN</td>\n",
              "    </tr>\n",
              "  </tbody>\n",
              "</table>\n",
              "</div>"
            ],
            "text/plain": [
              "                           Partido  ... Audiencia estimada\n",
              "0  [Atlético de Madrid, Barcelona]  ...                NaN\n",
              "1                [Eibar, Valencia]  ...                NaN\n",
              "2         [Leganés, Real Sociedad]  ...                NaN\n",
              "3                  [Betis, Getafe]  ...                NaN\n",
              "4              [Espanyol, Sevilla]  ...                NaN\n",
              "5            [Villareal, Mallorca]  ...                NaN\n",
              "6                [Alavés, Osasuna]  ...                NaN\n",
              "7           [Levante, Real Madrid]  ...                NaN\n",
              "8              [Valladolid, Celta]  ...                NaN\n",
              "9       [Athletic Bilbao, Granada]  ...                NaN\n",
              "\n",
              "[10 rows x 8 columns]"
            ]
          },
          "metadata": {
            "tags": []
          }
        }
      ]
    },
    {
      "cell_type": "code",
      "metadata": {
        "id": "ZkMaIfRI9rz_"
      },
      "source": [
        "# Ahora creamos una matriz con la audiencia estimada según la categoría del partido:\n",
        "\n",
        "audiencia = [2, 1.3, 1, 1.3, 0.9, 0.75, 1, 0.75, 0.47]\n",
        "audiencia = np.array(audiencia).reshape(3,3)\n",
        "audiencia = pd.DataFrame(audiencia, columns=['A','B','C'], index=['A','B','C'])"
      ],
      "execution_count": 4,
      "outputs": []
    },
    {
      "cell_type": "code",
      "metadata": {
        "colab": {
          "base_uri": "https://localhost:8080/",
          "height": 143
        },
        "id": "7zj7FKwh9sDf",
        "outputId": "963f6837-34db-41a4-ab4c-f1cf5707fa35"
      },
      "source": [
        "display(audiencia)"
      ],
      "execution_count": 5,
      "outputs": [
        {
          "output_type": "display_data",
          "data": {
            "text/html": [
              "<div>\n",
              "<style scoped>\n",
              "    .dataframe tbody tr th:only-of-type {\n",
              "        vertical-align: middle;\n",
              "    }\n",
              "\n",
              "    .dataframe tbody tr th {\n",
              "        vertical-align: top;\n",
              "    }\n",
              "\n",
              "    .dataframe thead th {\n",
              "        text-align: right;\n",
              "    }\n",
              "</style>\n",
              "<table border=\"1\" class=\"dataframe\">\n",
              "  <thead>\n",
              "    <tr style=\"text-align: right;\">\n",
              "      <th></th>\n",
              "      <th>A</th>\n",
              "      <th>B</th>\n",
              "      <th>C</th>\n",
              "    </tr>\n",
              "  </thead>\n",
              "  <tbody>\n",
              "    <tr>\n",
              "      <th>A</th>\n",
              "      <td>2.0</td>\n",
              "      <td>1.30</td>\n",
              "      <td>1.00</td>\n",
              "    </tr>\n",
              "    <tr>\n",
              "      <th>B</th>\n",
              "      <td>1.3</td>\n",
              "      <td>0.90</td>\n",
              "      <td>0.75</td>\n",
              "    </tr>\n",
              "    <tr>\n",
              "      <th>C</th>\n",
              "      <td>1.0</td>\n",
              "      <td>0.75</td>\n",
              "      <td>0.47</td>\n",
              "    </tr>\n",
              "  </tbody>\n",
              "</table>\n",
              "</div>"
            ],
            "text/plain": [
              "     A     B     C\n",
              "A  2.0  1.30  1.00\n",
              "B  1.3  0.90  0.75\n",
              "C  1.0  0.75  0.47"
            ]
          },
          "metadata": {
            "tags": []
          }
        }
      ]
    },
    {
      "cell_type": "code",
      "metadata": {
        "id": "umD8lTRp9sVQ"
      },
      "source": [
        "# Complementamos los datos generales tabulados con la información de esta matriz de audiencias:\n",
        "\n",
        "for i in range(10):\n",
        "    cat_part = pd_datos.iloc[i,1]\n",
        "    pd_datos.iloc[i,2] = audiencia.loc[cat_part[0], cat_part[1]]"
      ],
      "execution_count": 6,
      "outputs": []
    },
    {
      "cell_type": "code",
      "metadata": {
        "colab": {
          "base_uri": "https://localhost:8080/",
          "height": 363
        },
        "id": "YP1Z0yQq9stz",
        "outputId": "461dfd1d-3973-4ca8-a4d2-50143a30833e"
      },
      "source": [
        "display(pd_datos)"
      ],
      "execution_count": 7,
      "outputs": [
        {
          "output_type": "display_data",
          "data": {
            "text/html": [
              "<div>\n",
              "<style scoped>\n",
              "    .dataframe tbody tr th:only-of-type {\n",
              "        vertical-align: middle;\n",
              "    }\n",
              "\n",
              "    .dataframe tbody tr th {\n",
              "        vertical-align: top;\n",
              "    }\n",
              "\n",
              "    .dataframe thead th {\n",
              "        text-align: right;\n",
              "    }\n",
              "</style>\n",
              "<table border=\"1\" class=\"dataframe\">\n",
              "  <thead>\n",
              "    <tr style=\"text-align: right;\">\n",
              "      <th></th>\n",
              "      <th>Partido</th>\n",
              "      <th>Categoria</th>\n",
              "      <th>Audiencia base</th>\n",
              "      <th>Horario</th>\n",
              "      <th>Ponderacion</th>\n",
              "      <th>Partidos simultaneos</th>\n",
              "      <th>F coincidencia</th>\n",
              "      <th>Audiencia estimada</th>\n",
              "    </tr>\n",
              "  </thead>\n",
              "  <tbody>\n",
              "    <tr>\n",
              "      <th>0</th>\n",
              "      <td>[Atlético de Madrid, Barcelona]</td>\n",
              "      <td>[B, A]</td>\n",
              "      <td>1.30</td>\n",
              "      <td>NaN</td>\n",
              "      <td>NaN</td>\n",
              "      <td>NaN</td>\n",
              "      <td>NaN</td>\n",
              "      <td>NaN</td>\n",
              "    </tr>\n",
              "    <tr>\n",
              "      <th>1</th>\n",
              "      <td>[Eibar, Valencia]</td>\n",
              "      <td>[C, B]</td>\n",
              "      <td>0.75</td>\n",
              "      <td>NaN</td>\n",
              "      <td>NaN</td>\n",
              "      <td>NaN</td>\n",
              "      <td>NaN</td>\n",
              "      <td>NaN</td>\n",
              "    </tr>\n",
              "    <tr>\n",
              "      <th>2</th>\n",
              "      <td>[Leganés, Real Sociedad]</td>\n",
              "      <td>[C, A]</td>\n",
              "      <td>1.00</td>\n",
              "      <td>NaN</td>\n",
              "      <td>NaN</td>\n",
              "      <td>NaN</td>\n",
              "      <td>NaN</td>\n",
              "      <td>NaN</td>\n",
              "    </tr>\n",
              "    <tr>\n",
              "      <th>3</th>\n",
              "      <td>[Betis, Getafe]</td>\n",
              "      <td>[B, B]</td>\n",
              "      <td>0.90</td>\n",
              "      <td>NaN</td>\n",
              "      <td>NaN</td>\n",
              "      <td>NaN</td>\n",
              "      <td>NaN</td>\n",
              "      <td>NaN</td>\n",
              "    </tr>\n",
              "    <tr>\n",
              "      <th>4</th>\n",
              "      <td>[Espanyol, Sevilla]</td>\n",
              "      <td>[B, B]</td>\n",
              "      <td>0.90</td>\n",
              "      <td>NaN</td>\n",
              "      <td>NaN</td>\n",
              "      <td>NaN</td>\n",
              "      <td>NaN</td>\n",
              "      <td>NaN</td>\n",
              "    </tr>\n",
              "    <tr>\n",
              "      <th>5</th>\n",
              "      <td>[Villareal, Mallorca]</td>\n",
              "      <td>[B, C]</td>\n",
              "      <td>0.75</td>\n",
              "      <td>NaN</td>\n",
              "      <td>NaN</td>\n",
              "      <td>NaN</td>\n",
              "      <td>NaN</td>\n",
              "      <td>NaN</td>\n",
              "    </tr>\n",
              "    <tr>\n",
              "      <th>6</th>\n",
              "      <td>[Alavés, Osasuna]</td>\n",
              "      <td>[B, C]</td>\n",
              "      <td>0.75</td>\n",
              "      <td>NaN</td>\n",
              "      <td>NaN</td>\n",
              "      <td>NaN</td>\n",
              "      <td>NaN</td>\n",
              "      <td>NaN</td>\n",
              "    </tr>\n",
              "    <tr>\n",
              "      <th>7</th>\n",
              "      <td>[Levante, Real Madrid]</td>\n",
              "      <td>[B, A]</td>\n",
              "      <td>1.30</td>\n",
              "      <td>NaN</td>\n",
              "      <td>NaN</td>\n",
              "      <td>NaN</td>\n",
              "      <td>NaN</td>\n",
              "      <td>NaN</td>\n",
              "    </tr>\n",
              "    <tr>\n",
              "      <th>8</th>\n",
              "      <td>[Valladolid, Celta]</td>\n",
              "      <td>[C, B]</td>\n",
              "      <td>0.75</td>\n",
              "      <td>NaN</td>\n",
              "      <td>NaN</td>\n",
              "      <td>NaN</td>\n",
              "      <td>NaN</td>\n",
              "      <td>NaN</td>\n",
              "    </tr>\n",
              "    <tr>\n",
              "      <th>9</th>\n",
              "      <td>[Athletic Bilbao, Granada]</td>\n",
              "      <td>[B, C]</td>\n",
              "      <td>0.75</td>\n",
              "      <td>NaN</td>\n",
              "      <td>NaN</td>\n",
              "      <td>NaN</td>\n",
              "      <td>NaN</td>\n",
              "      <td>NaN</td>\n",
              "    </tr>\n",
              "  </tbody>\n",
              "</table>\n",
              "</div>"
            ],
            "text/plain": [
              "                           Partido  ... Audiencia estimada\n",
              "0  [Atlético de Madrid, Barcelona]  ...                NaN\n",
              "1                [Eibar, Valencia]  ...                NaN\n",
              "2         [Leganés, Real Sociedad]  ...                NaN\n",
              "3                  [Betis, Getafe]  ...                NaN\n",
              "4              [Espanyol, Sevilla]  ...                NaN\n",
              "5            [Villareal, Mallorca]  ...                NaN\n",
              "6                [Alavés, Osasuna]  ...                NaN\n",
              "7           [Levante, Real Madrid]  ...                NaN\n",
              "8              [Valladolid, Celta]  ...                NaN\n",
              "9       [Athletic Bilbao, Granada]  ...                NaN\n",
              "\n",
              "[10 rows x 8 columns]"
            ]
          },
          "metadata": {
            "tags": []
          }
        }
      ]
    },
    {
      "cell_type": "code",
      "metadata": {
        "id": "SF_K_Grx9s4P"
      },
      "source": [
        "# Una vez configurada la tabla de datos general, y dada la jornada sobre la que debemos repartir horarios,\n",
        "# el atributo \"Audiencia base\" es suficiente para representar dicha jornada.\n",
        "# Utilizaremos una lista con los datos de esta columna como argumento de entrada de nuestro problema:\n",
        "\n",
        "jornada = list(pd_datos['Audiencia base'])"
      ],
      "execution_count": 8,
      "outputs": []
    },
    {
      "cell_type": "code",
      "metadata": {
        "colab": {
          "base_uri": "https://localhost:8080/"
        },
        "id": "abYUj7Sb9tEE",
        "outputId": "fff987be-a84b-4ff8-ba93-a526d5a07229"
      },
      "source": [
        "print(jornada)"
      ],
      "execution_count": 9,
      "outputs": [
        {
          "output_type": "stream",
          "text": [
            "[1.3, 0.75, 1.0, 0.9, 0.9, 0.75, 0.75, 1.3, 0.75, 0.75]\n"
          ],
          "name": "stdout"
        }
      ]
    },
    {
      "cell_type": "code",
      "metadata": {
        "id": "3k83Km_M9tS0"
      },
      "source": [
        "# Asimismo, vamos a necesitar un vector de entrada (en forma de lista) que sean todos los horarios disponibles:\n",
        "\n",
        "horarios = ['V20', 'L20', 'S12', 'S16', 'S18', 'S20', 'D12', 'D16', 'D18', 'D20']"
      ],
      "execution_count": 10,
      "outputs": []
    },
    {
      "cell_type": "code",
      "metadata": {
        "colab": {
          "base_uri": "https://localhost:8080/"
        },
        "id": "WMCdQl4W9thI",
        "outputId": "91d37522-3fca-4916-d111-84e083920d15"
      },
      "source": [
        "print(horarios)"
      ],
      "execution_count": 11,
      "outputs": [
        {
          "output_type": "stream",
          "text": [
            "['V20', 'L20', 'S12', 'S16', 'S18', 'S20', 'D12', 'D16', 'D18', 'D20']\n"
          ],
          "name": "stdout"
        }
      ]
    },
    {
      "cell_type": "code",
      "metadata": {
        "id": "XM7zirQO9ttr"
      },
      "source": [
        "# Por otra parte, podemos de estructurar un diccionario que relacione los horarios con los coeficientes correctores:\n",
        "\n",
        "horarios_dic = {'V20':0.4, 'S12':0.55, 'S16':0.7, 'S18':0.8, 'S20':1, 'D12':0.45, 'D16':0.75, 'D18':0.85, 'D20':1, 'L20':0.4}"
      ],
      "execution_count": 12,
      "outputs": []
    },
    {
      "cell_type": "code",
      "metadata": {
        "colab": {
          "base_uri": "https://localhost:8080/"
        },
        "id": "_q1hj03G9t7j",
        "outputId": "1c13ddbf-0721-4126-8040-ff1b3f167f66"
      },
      "source": [
        "print(horarios_dic)"
      ],
      "execution_count": 13,
      "outputs": [
        {
          "output_type": "stream",
          "text": [
            "{'V20': 0.4, 'S12': 0.55, 'S16': 0.7, 'S18': 0.8, 'S20': 1, 'D12': 0.45, 'D16': 0.75, 'D18': 0.85, 'D20': 1, 'L20': 0.4}\n"
          ],
          "name": "stdout"
        }
      ]
    },
    {
      "cell_type": "code",
      "metadata": {
        "id": "b56UlX4O9uSM"
      },
      "source": [
        "# Por último, creamos otro diccionario, relaccionando la cantidad de partidos\n",
        "# que se juegan en un mismo horario con su correspondiente reducción de audiencia por partido:\n",
        "\n",
        "simul_dic = {1:1, 2:0.75, 3:0.55, 4:0.4, 5:0.3, 6:0.25, 7:0.22, 8:0.2, 9:0.2}"
      ],
      "execution_count": 14,
      "outputs": []
    },
    {
      "cell_type": "code",
      "metadata": {
        "colab": {
          "base_uri": "https://localhost:8080/"
        },
        "id": "sTKVtPos9uhz",
        "outputId": "3167df3b-946a-4512-ce23-4debe4f6dafe"
      },
      "source": [
        "print(simul_dic)"
      ],
      "execution_count": 15,
      "outputs": [
        {
          "output_type": "stream",
          "text": [
            "{1: 1, 2: 0.75, 3: 0.55, 4: 0.4, 5: 0.3, 6: 0.25, 7: 0.22, 8: 0.2, 9: 0.2}\n"
          ],
          "name": "stdout"
        }
      ]
    },
    {
      "cell_type": "markdown",
      "metadata": {
        "id": "YUclbdlQ9vEM"
      },
      "source": [
        "Una vez encontrada la mejor solución, habremos guardado los datos asociados a dicha solución, y podremos incluirlos en la tabulación, presentando así todos los datos de forma compacta y fácilmente comprensible."
      ]
    },
    {
      "cell_type": "markdown",
      "metadata": {
        "id": "t0plmhFq-NOd"
      },
      "source": [
        "## __Pregunta 3__"
      ]
    },
    {
      "cell_type": "markdown",
      "metadata": {
        "id": "Y11ovkob-QbZ"
      },
      "source": [
        "Según el modelo para el espacio de soluciones:\n",
        "* (*)¿Cual es la función objetivo?\n",
        "\n",
        "* (*)¿Es un problema de maximización o minimización?"
      ]
    },
    {
      "cell_type": "markdown",
      "metadata": {
        "id": "bQsxkacN-Qm7"
      },
      "source": [
        "___Respuesta:___"
      ]
    },
    {
      "cell_type": "markdown",
      "metadata": {
        "id": "aXaBhB6G-Q1z"
      },
      "source": [
        "Una solución al problema vendrá dada por la asignaciónde un horario a cada uno de los 10 partidos (que tendrán intrínsecamente asociados una categoría). Para una jornada predefinida, una solución se podría expresar como una lista de 10 entradas, siendo cada una de esas entradas un horario. Por ejemplo:"
      ]
    },
    {
      "cell_type": "code",
      "metadata": {
        "id": "qU_qxZbX-Y8j"
      },
      "source": [
        "solucion_ejemplo = ['V20', 'L20', 'S20', 'S12', 'D12', 'S12', 'V20', 'D20', 'D18', 'S16']"
      ],
      "execution_count": 16,
      "outputs": []
    },
    {
      "cell_type": "markdown",
      "metadata": {
        "id": "vvSYQVEa-bte"
      },
      "source": [
        "Cada una de las entradas podrá ser un _string_, compuesto por una letra que identifica el día de la semana y un número identificando la hora en que se juega el partido. La primera entrada corresponde al horario del primer partido, y así sucesivamente. Hay que notar que al menos una entrada de la lista deberá ser 'V20', y otra 'L20', tal como expresan las restricciones del problema. "
      ]
    },
    {
      "cell_type": "markdown",
      "metadata": {
        "id": "7q7gpUtJ-jpO"
      },
      "source": [
        "En este problema, la función objetivo será la suma de la audiencia estimada para cada partido, después de haber aplicado los factores correctores por coincidencia de horarios. La función se podría escribir como sigue:"
      ]
    },
    {
      "cell_type": "markdown",
      "metadata": {
        "id": "h8EIVv1e-kmj"
      },
      "source": [
        "$i: \\text{partido}$"
      ]
    },
    {
      "cell_type": "markdown",
      "metadata": {
        "id": "evKEFy5d-k9h"
      },
      "source": [
        "$Ab_i: \\text{Audiencia base del partido, en función de su categoría}$"
      ]
    },
    {
      "cell_type": "markdown",
      "metadata": {
        "id": "hB5qaFh1-lLl"
      },
      "source": [
        "$Fh_i: \\text{Factor de ponderación según el horario del partido}$"
      ]
    },
    {
      "cell_type": "markdown",
      "metadata": {
        "id": "D2ffOTve-mbT"
      },
      "source": [
        "$Fc_i: \\text{Factor corrector según el número de partidos jugados en el horario en que se juega el partido i}$"
      ]
    },
    {
      "cell_type": "markdown",
      "metadata": {
        "id": "u8pWw8Dq-m5L"
      },
      "source": [
        "$$\n",
        "F = \\sum_{n=1}^{10} (Ab_i · Fh_i · Fc_i)\n",
        "$$"
      ]
    },
    {
      "cell_type": "markdown",
      "metadata": {
        "id": "D2uUX0rx-nG2"
      },
      "source": [
        "Por tanto, éste consiste en un problema de __maximizar__ la salida de la función objetivo."
      ]
    },
    {
      "cell_type": "markdown",
      "metadata": {
        "id": "V8vNigc6-nRB"
      },
      "source": [
        "## __Pregunta 4__"
      ]
    },
    {
      "cell_type": "markdown",
      "metadata": {
        "id": "ajH44HhV-nZ1"
      },
      "source": [
        "Diseña un algoritmo para resolver el problema por fuerza bruta"
      ]
    },
    {
      "cell_type": "markdown",
      "metadata": {
        "id": "EDtJ_TQ7-njt"
      },
      "source": [
        "___Respuesta:___"
      ]
    },
    {
      "cell_type": "markdown",
      "metadata": {
        "id": "2H6sLQy2-nvT"
      },
      "source": [
        "La secuencia que ha de seguir este algoritmo es:\n",
        "\n",
        "   1. Generar todas las combinaciones posibles de horarios, sin atender las restricciones.\n",
        "   2. Eliminar las potenciales soluciones que no cumplen con las restricciones del problema. \n",
        "   3. Dada una jornada de liga, evaluar cada solución (combinación de horarios).\n",
        "   4. Encontrar la combinación que ha generado una mayor audiencia total (máximo de la función objetivo)."
      ]
    },
    {
      "cell_type": "code",
      "metadata": {
        "id": "Pd1Gxoj-_NTF"
      },
      "source": [
        "### Generación y filtrado de todo el espacio de soluciones ###"
      ],
      "execution_count": 17,
      "outputs": []
    },
    {
      "cell_type": "code",
      "metadata": {
        "id": "8S3fmLQr_Xea"
      },
      "source": [
        "def genera_soluciones(horarios, n_partidos):\n",
        "    \n",
        "    # Las entradas de la función son:\n",
        "        # horarios: Una lista con todos los posibles horarios, que han de incluir 'V20' y 'L20'\n",
        "        # n_partidos: número de partidos que se disputan en una jornada\n",
        "        \n",
        "    # Además, la función informa del número total de soluciones potenciales, sin considerar y considerando restricciones.\n",
        "        \n",
        "    # Generación de todas las combinaciones\n",
        "    sol_sr = list(product(horarios, repeat=n_partidos)) # La función product de la librería itertools genera todas las variaciones con repetición de un conjunto\n",
        "    print(f'El numero total de soluciones potenciales, sin considerar restricciones es {len(sol_sr)}.')\n",
        "    \n",
        "    # Seleccionamos las soluciones válidas a partir de la lista de soluciones anterior\n",
        "    sol_cr = [list(solucion) for solucion in sol_sr if (('V20' in solucion) and ('L20' in solucion))]\n",
        "    print(f'El numero total de soluciones potenciales, considerando las restricciones es {len(sol_cr)}.')\n",
        "    \n",
        "    # Devolvemos la lista de listas con todas las potenciales soluciones, considerando las restricciones del problema\n",
        "    return sol_cr"
      ],
      "execution_count": 18,
      "outputs": []
    },
    {
      "cell_type": "code",
      "metadata": {
        "id": "QN-VzVPm_X5X"
      },
      "source": [
        "### Evaluación de las combinaciones ###"
      ],
      "execution_count": 19,
      "outputs": []
    },
    {
      "cell_type": "code",
      "metadata": {
        "id": "5fbTKquo_Yg0"
      },
      "source": [
        "# Función que asocia a cada horario (entrada de la potencial solución) su factor de ponderación\n",
        "\n",
        "def pondera_horario(solucion, dic_pesos):\n",
        "\n",
        "    n = len(solucion)\n",
        "    pesos_h = [dic_pesos[solucion[i]] for i in range(n)]\n",
        "    \n",
        "    return pesos_h"
      ],
      "execution_count": 20,
      "outputs": []
    },
    {
      "cell_type": "code",
      "metadata": {
        "id": "9YFYTXJJ_aUT"
      },
      "source": [
        "# Función que, para cada potencial solución, cuenta la frecuencia absoluta asociada a cada horario\n",
        "# De este modo, conoceremos cuántos partidos coinciden en el mismo horario\n",
        "\n",
        "def cuenta_partidos(solucion):\n",
        "    \n",
        "    conteo = [solucion.count(horario) for horario in solucion]\n",
        "    \n",
        "    return conteo"
      ],
      "execution_count": 21,
      "outputs": []
    },
    {
      "cell_type": "code",
      "metadata": {
        "id": "je-69Yzi_aql"
      },
      "source": [
        "# Función que, a partir del vector/lista de frecuencias absolutas, recupera el factor corrector por coincidencia de partidos\n",
        "\n",
        "def factor_corrector(frecuencias, dic_factor):\n",
        "    \n",
        "    n = len(frecuencias)\n",
        "    factor_c = [dic_factor[frecuencias[i]] for i in range(n)]\n",
        "    \n",
        "    return factor_c"
      ],
      "execution_count": 22,
      "outputs": []
    },
    {
      "cell_type": "code",
      "metadata": {
        "id": "BcTaJgXd_a1R"
      },
      "source": [
        "# Función que calcula la audiencia estimada para cada partido de una potencial solución\n",
        "\n",
        "def audiencia_solucion(aud_base, pesos, f_corrector):\n",
        "    \n",
        "    aud_partidos = [x*y*z for x,y,z in zip(aud_base, pesos, f_corrector)]\n",
        "    audiencia_est = np.sum(aud_partidos)\n",
        "    \n",
        "    return audiencia_est"
      ],
      "execution_count": 23,
      "outputs": []
    },
    {
      "cell_type": "code",
      "metadata": {
        "id": "Q9HPzNg__a8W"
      },
      "source": [
        "# Función que integra a las cuatro funciones anteriores, y devuelve un vector/lista con el resultado de evaluar\n",
        "# la función objetivo para cada solución potencial\n",
        "\n",
        "def evalua_FB(aud_base, soluciones, dic_pesos, dic_factor):\n",
        "    \n",
        "    n_sol = len(soluciones)\n",
        "    n_jornada = len(aud_base)\n",
        "    audiencias = []\n",
        "    \n",
        "    for solucion in soluciones:\n",
        "        \n",
        "        pesos = pondera_horario(solucion, dic_pesos)\n",
        "        conteo = cuenta_partidos(solucion)\n",
        "        f_corrector = factor_corrector(conteo, dic_factor)\n",
        "        aud_sol = audiencia_solucion(aud_base, pesos, f_corrector)\n",
        "        audiencias.append(aud_sol)\n",
        "    \n",
        "    audiencia_max = np.max(audiencias)\n",
        "    \n",
        "    return audiencias, audiencia_max"
      ],
      "execution_count": 24,
      "outputs": []
    },
    {
      "cell_type": "code",
      "metadata": {
        "id": "hxIr5EdR_bDi"
      },
      "source": [
        "### Búsqueda de la combinación con audiencia máxima ### ---> En la función anterior!"
      ],
      "execution_count": 25,
      "outputs": []
    },
    {
      "cell_type": "code",
      "metadata": {
        "id": "ZOsDatr__bJy"
      },
      "source": [
        "### Integración del algoritmo completo (fuerza bruta) ###"
      ],
      "execution_count": 26,
      "outputs": []
    },
    {
      "cell_type": "code",
      "metadata": {
        "id": "VQJQ1aut_bQU"
      },
      "source": [
        "def resuelve_FB(aud_base, horarios, dic_pesos, dic_factor):\n",
        "    \n",
        "    soluciones = genera_soluciones(horarios, len(aud_base))\n",
        "    audiencias, audiencia_max = evalua_FB(aud_base, soluciones, dic_pesos, dic_factor)\n",
        "    indice_sol = audiencias.index(audiencia_max)\n",
        "    solucion = soluciones[indice_sol]\n",
        "    \n",
        "    print(f'\\nLa solución que genera una audiencia máxima ({round(audiencia_max, 3)} M) es:')\n",
        "    \n",
        "    return solucion"
      ],
      "execution_count": 27,
      "outputs": []
    },
    {
      "cell_type": "code",
      "metadata": {
        "id": "9wcXkZiq_bWm"
      },
      "source": [
        "### Probamos el algoritmo con datos que representan una reducción del espacio de soluciones ###"
      ],
      "execution_count": 28,
      "outputs": []
    },
    {
      "cell_type": "code",
      "metadata": {
        "id": "zkRPsV6f_bcS"
      },
      "source": [
        "# Datos de prueba del algoritmo:\n",
        "\n",
        "horarios_prueba = horarios[:8]\n",
        "jornada_prueba = jornada[:8]\n",
        "horarios_dic = {'V20':0.4, 'S12':0.55, 'S16':0.7, 'S18':0.8, 'S20':1, 'D12':0.45, 'D16':0.75, 'D18':0.85, 'D20':1, 'L20':0.4}\n",
        "simul_dic = {1:1, 2:0.75, 3:0.55, 4:0.4, 5:0.3, 6:0.25, 7:0.22, 8:0.2, 9:0.2}"
      ],
      "execution_count": 29,
      "outputs": []
    },
    {
      "cell_type": "code",
      "metadata": {
        "colab": {
          "base_uri": "https://localhost:8080/"
        },
        "id": "LyB4EE0z_bjZ",
        "outputId": "b0e42957-3162-4114-b569-f40006effc04"
      },
      "source": [
        "resuelve_FB(jornada_prueba, horarios_prueba, horarios_dic, simul_dic)"
      ],
      "execution_count": 30,
      "outputs": [
        {
          "output_type": "stream",
          "text": [
            "El numero total de soluciones potenciales, sin considerar restricciones es 16777216.\n",
            "El numero total de soluciones potenciales, considerando las restricciones es 6927230.\n",
            "\n",
            "La solución que genera una audiencia máxima (5.152 M) es:\n"
          ],
          "name": "stdout"
        },
        {
          "output_type": "execute_result",
          "data": {
            "text/plain": [
              "['S18', 'V20', 'D16', 'S12', 'S16', 'L20', 'D12', 'S20']"
            ]
          },
          "metadata": {
            "tags": []
          },
          "execution_count": 30
        }
      ]
    },
    {
      "cell_type": "markdown",
      "metadata": {
        "id": "MxfAtwP-A536"
      },
      "source": [
        "## __Pregunta 5__"
      ]
    },
    {
      "cell_type": "markdown",
      "metadata": {
        "id": "K4dprymYA_dt"
      },
      "source": [
        "Calcula la complejidad del algoritmo por fuerza bruta"
      ]
    },
    {
      "cell_type": "markdown",
      "metadata": {
        "id": "2PCo_4tNA_zT"
      },
      "source": [
        "Vamos descomponiendo la complejidad computacional de cada parte/función del algoritmo que resuelve el problema por fuerza bruta:"
      ]
    },
    {
      "cell_type": "markdown",
      "metadata": {
        "id": "SruoRk1dBAEZ"
      },
      "source": [
        "La dimensionalidad del problema viene definida por:\n",
        "\n",
        "- n: número de partidos (10)\n",
        "- m: número de horarios disponibles (10)"
      ]
    },
    {
      "cell_type": "code",
      "metadata": {
        "id": "PNImxNXWBDxr"
      },
      "source": [
        "def genera_soluciones(horarios, n_partidos):\n",
        "    \n",
        "    sol_sr = list(product(horarios, repeat=n_partidos))               # 2^n  \n",
        "    print(f'El numero total de soluciones potenciales, sin considerar restricciones es {len(sol_sr)}.')        # 1    \n",
        "    sol_cr = [list(solucion) for solucion in sol_sr if (('V20' in solucion) and ('L20' in solucion))]          # 2^n   \n",
        "    print(f'El numero total de soluciones potenciales, considerando las restricciones es {len(sol_cr)}.')      # 1  \n",
        "    return sol_cr                         # 1\n",
        "    \n",
        "## Orden de complejidad computacional de la función genera_soluciones: O(2^n) ##"
      ],
      "execution_count": 32,
      "outputs": []
    },
    {
      "cell_type": "code",
      "metadata": {
        "id": "rzoSAmYnBD_L"
      },
      "source": [
        "def pondera_horario(solucion, dic_pesos):\n",
        "\n",
        "    n = len(solucion)                                             # 1\n",
        "    pesos_h = [dic_pesos[solucion[i]] for i in range(n)]          #  n   \n",
        "    return pesos_h                                                # 1\n",
        "    \n",
        "## Orden de complejidad computacional de la función pondera_horario: O(n) ##"
      ],
      "execution_count": 33,
      "outputs": []
    },
    {
      "cell_type": "code",
      "metadata": {
        "id": "hFGgeqM9BEK4"
      },
      "source": [
        "def cuenta_partidos(solucion):\n",
        "    \n",
        "    conteo = [solucion.count(horario) for horario in solucion]            # n^2\n",
        "    #(el método .count() supone recorrer un vector de dimensión n, aplicar n comparaciones y guardar hasta n resultados)    \n",
        "    return conteo                                                         # 1\n",
        "    \n",
        "## Orden de complejidad computacional de la función pondera_horario: O(n^2) ##"
      ],
      "execution_count": 34,
      "outputs": []
    },
    {
      "cell_type": "code",
      "metadata": {
        "id": "y1IguMzIBEWZ"
      },
      "source": [
        "def factor_corrector(frecuencias, dic_factor):\n",
        "    \n",
        "    n = len(frecuencias)                                                # 1\n",
        "    factor_c = [dic_factor[frecuencias[i]] for i in range(n)]           # n\n",
        "    return factor_c                                                     # 1\n",
        "    \n",
        "## Orden de complejidad computacional de la función pondera_horario: O(n) ##"
      ],
      "execution_count": 35,
      "outputs": []
    },
    {
      "cell_type": "code",
      "metadata": {
        "id": "STzW7LxsBEiT"
      },
      "source": [
        "def audiencia_solucion(aud_base, pesos, f_corrector):\n",
        "    \n",
        "    aud_partidos = [x*y*z for x,y,z in zip(aud_base, pesos, f_corrector)]          # n\n",
        "    audiencia_est = np.sum(aud_partidos)                                           # n   \n",
        "    return audiencia_est                                                           # 1\n",
        "    \n",
        "## Orden de complejidad computacional de la función pondera_horario: O(n) ##"
      ],
      "execution_count": 36,
      "outputs": []
    },
    {
      "cell_type": "code",
      "metadata": {
        "id": "WPnhiV2wBEyQ"
      },
      "source": [
        "def evalua_FB(aud_base, soluciones, dic_pesos, dic_factor):\n",
        "    \n",
        "    n_sol = len(soluciones)                 # 1\n",
        "    n_jornada = len(aud_base)               # 1\n",
        "    audiencias = []                         # 1\n",
        "    \n",
        "    for solucion in soluciones:                                         # n\n",
        "        \n",
        "        pesos = pondera_horario(solucion, dic_pesos)                    # n^2\n",
        "        conteo = cuenta_partidos(solucion)                              # n^3\n",
        "        f_corrector = factor_corrector(conteo, dic_factor)              # n^2\n",
        "        aud_sol = audiencia_solucion(aud_base, pesos, f_corrector)      # n^2\n",
        "        audiencias.append(aud_sol)                                      # n\n",
        "    \n",
        "    audiencia_max = np.max(audiencias)            # n   \n",
        "    return audiencias, audiencia_max              # 1\n",
        "    \n",
        "## Orden de complejidad computacional de la función pondera_horario: O(n^3) ##"
      ],
      "execution_count": 37,
      "outputs": []
    },
    {
      "cell_type": "code",
      "metadata": {
        "id": "TNkg5lnKBFA4"
      },
      "source": [
        "def resuelve_FB(aud_base, horarios, dic_pesos, dic_factor):\n",
        "    \n",
        "    soluciones = genera_soluciones(horarios_prueba, len(aud_base))                                # 2^n\n",
        "    audiencias, audiencia_max = evalua_FB(aud_base, soluciones, dic_pesos, dic_factor)            # (2^n)^3\n",
        "    indice_sol = audiencias.index(audiencia_max)                                                  # 2^n\n",
        "    solucion = soluciones[indice_sol]                                                             # 1   \n",
        "    print(f'\\nLa solución que genera una audiencia máxima ({round(audiencia_max, 3)} M) es:')     # 1 \n",
        "    return solucion                                                                               # 1\n",
        "    \n",
        "## Orden de complejidad computacional del algoritmo es: O(2^n) ##"
      ],
      "execution_count": 38,
      "outputs": []
    },
    {
      "cell_type": "markdown",
      "metadata": {
        "id": "eD3JUx2HBALg"
      },
      "source": [
        "El orden de complejidad del algoritmo de fuerza bruta viene condicionado por la generación y filtrado de todas las posibles soluciones, con un orden de complejidad exponencial, O(2^n). Cualquier otra función considerada a posteriori, que evalua las soluciones o determina los coeficientes necesarios para realizar esta evaluación, tienen una complejidad lineal o polinómica. Por lo tanto, el algoritmo de fuerza bruta tiene un ___orden de complejidad exponencial, O(2^n)___."
      ]
    },
    {
      "cell_type": "markdown",
      "metadata": {
        "id": "CiH-0r-5CXte"
      },
      "source": [
        "## __Pregunta 6__"
      ]
    },
    {
      "cell_type": "markdown",
      "metadata": {
        "id": "q7mRyJ17CX-A"
      },
      "source": [
        "(*)Diseña un algoritmo que mejore la complejidad del algortimo por fuerza bruta. Argumenta porque crees que mejora el algoritmo por fuerza bruta"
      ]
    },
    {
      "cell_type": "markdown",
      "metadata": {
        "id": "gM7giyB9CYNq"
      },
      "source": [
        "___Respuesta:___"
      ]
    },
    {
      "cell_type": "markdown",
      "metadata": {
        "id": "3aMqptqxCYVo"
      },
      "source": [
        "Se plantea un algoritmo genético para la exploración de soluciones al problema. Este algoritmo va a eliminar la necesidad de desarrollar y evaluar todo el conjunto de soluciones, que es el paso que resulta prohibitivo al considerar la fuerza bruta. El algoritmo se diseña con la siguiente estructura:\n",
        "\n",
        "1. Se generan aleatoriamente n soluciones, que constituirán la primera generación.\n",
        "2. Se aplica una función de factibilidad, que asegurará el cumplimiento de las restricciones del problema. Esta misma función, aplicará las mutaciones necesarias a los individuos para que se satisfagan las restricciones. Así, la función de factibilidad cumplirá la doble función de asegurar soluciones coherentes con el problema e introducirá mutaciones en los individuos de cada nueva generación.\n",
        "3. Mezcla aleatoria de los individuos (_shuffle_).\n",
        "4. Los emparejamientos se harán de forma ordenada (el 1º con el 2º, el 3º con el 4º, ...), una vez aplicada la función _shuffle_ a la población.\n",
        "5. Para el cruce, consideraremos un 3-point crossover, eligiendo los puntos de forma aleatoria.\n",
        "6. Al nuevo conjunto de soluciones generado se le aplicará la función de factibilidad/mutación.\n",
        "7. Se aplica la función fitness (que calculará la audiencia estimada para cada solución) simultáneamente a la generación de progenitores y a la generación de hijos.\n",
        "8. Se seleccionarán individuos para conformar la siguiente generación como sigue:\n",
        "  - Aquellos individuos que tienen una valoración superior al percencil 50 pasan a formar la siguiente generación.\n",
        "  - De entre los no seleccionados, se escogen individuos aleatoriamente hasta completar una nueva generación de tamaño n (tamaño de la primera generación).\n",
        "9. Se vuelve al punto 3."
      ]
    },
    {
      "cell_type": "code",
      "metadata": {
        "id": "10CyrgXNCk-3"
      },
      "source": [
        "### 1. Primera generación ###"
      ],
      "execution_count": 39,
      "outputs": []
    },
    {
      "cell_type": "code",
      "metadata": {
        "id": "xJg0I7AYClNk"
      },
      "source": [
        "def primera_gen(horarios, n, jornada):\n",
        "    \n",
        "    # n: número de soluciones/individuos de primera generación\n",
        "    # horarios: conjunto de posibles horarios\n",
        "    \n",
        "    size = len(jornada) # Representa la longitud de cada solución (número de partidos a los que asignar horario)\n",
        "    poblacion = []\n",
        "    \n",
        "    for i in range(n):       \n",
        "        individuo = []\n",
        "        n_horarios = 0\n",
        "        \n",
        "        while n_horarios < size:           \n",
        "            individuo.append(choice(horarios))\n",
        "            n_horarios += 1\n",
        "            \n",
        "        poblacion.append(individuo)\n",
        "    \n",
        "    return poblacion"
      ],
      "execution_count": 40,
      "outputs": []
    },
    {
      "cell_type": "code",
      "metadata": {
        "id": "8UMiV_T-ClaI"
      },
      "source": [
        "### 2. Función de factibilidad/mutación ###"
      ],
      "execution_count": 41,
      "outputs": []
    },
    {
      "cell_type": "code",
      "metadata": {
        "id": "zzOjTUwZClj3"
      },
      "source": [
        "def fact_mut(generacion):\n",
        "    \n",
        "    n = len(generacion) # total de individuos en la población\n",
        "    n_i = len(generacion[0][:]) # longitud de una solucion\n",
        "    \n",
        "    for i in range(n):\n",
        "\n",
        "        if 'V20' not in generacion[i]:      \n",
        "            index = np.random.randint(0, n_i)\n",
        "            if generacion[i][index] != 'L20':\n",
        "                generacion[i][index] = 'V20'\n",
        "            \n",
        "        if 'L20' not in generacion[i]:      \n",
        "            index = np.random.randint(0, n_i)\n",
        "            if generacion[i][index] != 'V20':\n",
        "                generacion[i][index] = 'L20'\n",
        "                \n",
        "    return generacion"
      ],
      "execution_count": 42,
      "outputs": []
    },
    {
      "cell_type": "code",
      "metadata": {
        "id": "UZ0QkMmjClp-"
      },
      "source": [
        "### 3. Mezcla aleatoria de los individuos de la población ###"
      ],
      "execution_count": 43,
      "outputs": []
    },
    {
      "cell_type": "code",
      "metadata": {
        "id": "W1tt8GB4Clwd"
      },
      "source": [
        "# shuffle(generacion) es la función integrada en el algoritmo. "
      ],
      "execution_count": 44,
      "outputs": []
    },
    {
      "cell_type": "code",
      "metadata": {
        "id": "JyTOQufVCl4F"
      },
      "source": [
        "### 4. Función de cruce, que incluye la comprobación de factibilidad/mutación ###"
      ],
      "execution_count": 45,
      "outputs": []
    },
    {
      "cell_type": "code",
      "metadata": {
        "id": "48O00xBxCl-Q"
      },
      "source": [
        "def cruce_gen(generacion):\n",
        "    \n",
        "    n = len(generacion)\n",
        "    nueva_gen = [] # aquí almacenaremos los hijos de cada cruce\n",
        "    \n",
        "    for i in range(int(n/2)):\n",
        "        \n",
        "        solucion_p = generacion[2*i]\n",
        "        solucion_m = generacion[2*i + 1]\n",
        "        \n",
        "        solucion_h = []\n",
        "\n",
        "        # proceso de elección de los 3 crossover points (se generan nuevos puntos para cada par de progenitores)\n",
        "        opciones = list(range(1,len(solucion_p)-1)) # indices candidatos a ser un crossover point (excluye índices 0 y 9)\n",
        "        conteo = 0\n",
        "        indices = [] # en esta lista almacenamos los crossover points\n",
        "\n",
        "        while conteo < 3:\n",
        "            indice = choice(range(len(opciones)))\n",
        "            indices.append(opciones.pop(indice))\n",
        "            conteo += 1\n",
        "\n",
        "        indices.sort()\n",
        "    \n",
        "        # proceso de cruce:\n",
        "        solucion_h.extend(solucion_p[:indices[0]])\n",
        "        solucion_h.extend(solucion_m[indices[0]:indices[1]])\n",
        "        solucion_h.extend(solucion_p[indices[1]:indices[2]])\n",
        "        solucion_h.extend(solucion_m[indices[2]:])\n",
        "    \n",
        "        # se guarda la solución generada:\n",
        "        nueva_gen.append(solucion_h)\n",
        "        \n",
        "    # filtramos los hijos con la función de factibilidad, aplicando las mutaciones donde se requiran:\n",
        "    nueva_gen = fact_mut(nueva_gen)\n",
        "                \n",
        "    return nueva_gen   "
      ],
      "execution_count": 46,
      "outputs": []
    },
    {
      "cell_type": "code",
      "metadata": {
        "id": "stmxsnNhCmFf"
      },
      "source": [
        "### 5. Función de fitness, aplicada a las generaciones de progenitores e hijos ### "
      ],
      "execution_count": 47,
      "outputs": []
    },
    {
      "cell_type": "code",
      "metadata": {
        "id": "jgypCUyFCmLv"
      },
      "source": [
        "def f_fitness(generacion, generacion_h, jornada, dic_pesos, dic_factor):\n",
        "    \n",
        "    generacion += generacion_h\n",
        "    n_sol = len(generacion[0])\n",
        "    n_jornada = len(jornada)\n",
        "    audiencias = []\n",
        "\n",
        "    for individuo in generacion:\n",
        "\n",
        "        pesos = pondera_horario(individuo, dic_pesos) # función definida en el ejercicio 4\n",
        "        conteo = cuenta_partidos(individuo) # función definida en el ejercicio 4\n",
        "        f_corrector = factor_corrector(conteo, dic_factor) # función definida en el ejercicio 4\n",
        "        aud_sol = audiencia_solucion(jornada, pesos, f_corrector) # función definida en el ejercicio 4\n",
        "        audiencias.append(aud_sol)\n",
        "    \n",
        "    return audiencias"
      ],
      "execution_count": 48,
      "outputs": []
    },
    {
      "cell_type": "code",
      "metadata": {
        "id": "ZckPd0sVCmSy"
      },
      "source": [
        "### 6. Función de selección ###"
      ],
      "execution_count": 49,
      "outputs": []
    },
    {
      "cell_type": "code",
      "metadata": {
        "id": "oDABqGFECmcP"
      },
      "source": [
        "def f_seleccion(lista_audiencias, generacion, generacion_h):\n",
        "\n",
        "    audiencias = np.array(lista_audiencias)\n",
        "    threshold = np.percentile(audiencias, 50)\n",
        "    lista_combinada = list(zip(generacion+generacion_h, lista_audiencias))\n",
        "\n",
        "    nueva_generacion = [lista_combinada[i][0] for i in range(len(lista_combinada)) if lista_combinada[i][1] > threshold]\n",
        "\n",
        "    n = (2/3)*len(lista_combinada)\n",
        "\n",
        "    while len(nueva_generacion) < n:\n",
        "\n",
        "        individuo = choice(generacion+generacion_h)\n",
        "        if individuo not in nueva_generacion:\n",
        "            nueva_generacion.append(individuo)\n",
        "\n",
        "    return nueva_generacion"
      ],
      "execution_count": 50,
      "outputs": []
    },
    {
      "cell_type": "code",
      "metadata": {
        "id": "ATvTqybkCmjO"
      },
      "source": [
        "### 7. Algoritmo genético integrado ###"
      ],
      "execution_count": 51,
      "outputs": []
    },
    {
      "cell_type": "code",
      "metadata": {
        "id": "FEqywRMSCmpk"
      },
      "source": [
        "def resuelve_jornada_AG(iteraciones, size_poblacion, horarios, jornada, dic_pesos, dic_factor):\n",
        "    \n",
        "    # Comenzamos generando la primera población de soluciones:\n",
        "    generacion_0 = primera_gen(horarios, size_poblacion, jornada)\n",
        "\n",
        "    # Filtramos con la función de factibilidad, y aplicamos las mutaciones necesarias\n",
        "    # para cumplir con las restricciones del problema:\n",
        "    generacion_0 = fact_mut(generacion_0)\n",
        "    \n",
        "    # Iniciamos el bucle:\n",
        "    contador = 0\n",
        "    \n",
        "    while contador < iteraciones:\n",
        "    \n",
        "        # Mezclamos los individuos de esta primera generación (generación de progenitores):\n",
        "        shuffle(generacion_0)       \n",
        "        # Cruzamos los individuos de esta generación para producir las soluciones hijo:\n",
        "        generacion_1 = cruce_gen(generacion_0)       \n",
        "        # Evaluamos el conjunto total de soluciones hasta el momento:\n",
        "        audiencias = f_fitness(generacion_0, generacion_1, jornada, dic_pesos, dic_factor)       \n",
        "        # Seleccionamos a la próxima generación:\n",
        "        generacion_0 = f_seleccion(audiencias, generacion_0, generacion_1)\n",
        "        \n",
        "        contador += 1\n",
        "          \n",
        "    # De entre las valoraciones/audiencias obtenidas para la última generación,\n",
        "    # , buscamos el valor de audiencia máxima y la solución a la que corresponde:\n",
        "    max_audiencia = np.max(audiencias)\n",
        "    indice_max = audiencias.index(max_audiencia)\n",
        "    mejor_solucion = generacion_0[indice_max]\n",
        "    \n",
        "    print(f'La mejor solución corresponde al conjunto {mejor_solucion}, a la que se estima una audiencia de {round(max_audiencia, 3)} M.')    \n",
        "\n",
        "    return mejor_solucion, max_audiencia"
      ],
      "execution_count": 52,
      "outputs": []
    },
    {
      "cell_type": "markdown",
      "metadata": {
        "id": "5JEtjubzDI8C"
      },
      "source": [
        "## __Pregunta 7__"
      ]
    },
    {
      "cell_type": "markdown",
      "metadata": {
        "id": "b5uaMKQMDJNS"
      },
      "source": [
        "(*)Calcula la complejidad del algoritmo "
      ]
    },
    {
      "cell_type": "markdown",
      "metadata": {
        "id": "txphz6tdDJfP"
      },
      "source": [
        "___Respuesta:___"
      ]
    },
    {
      "cell_type": "markdown",
      "metadata": {
        "id": "y-_sPXcNDJta"
      },
      "source": [
        "Definimos las variables que dimensionan el problema al considerar este algoritmo:\n",
        "\n",
        "- número de partidos: n\n",
        "- horarios disponibles: m\n",
        "- tamaño de la población/generación: p\n",
        "- número de iteraciones/generaciones: g"
      ]
    },
    {
      "cell_type": "code",
      "metadata": {
        "id": "K2t4-8yBDUll"
      },
      "source": [
        "def primera_gen(horarios, n, jornada):\n",
        "    \n",
        "    size = len(jornada)     # 1\n",
        "    poblacion = []          # 1\n",
        "    \n",
        "    for i in range(n):      # p\n",
        "        individuo = []      # p\n",
        "        n_horarios = 0      # p\n",
        "        \n",
        "        while n_horarios < size:                  # p*n\n",
        "            individuo.append(choice(horarios))    # p*n\n",
        "            n_horarios += 1                       # p*n\n",
        "            \n",
        "        poblacion.append(individuo)       # p\n",
        "    \n",
        "    return poblacion        # 1\n",
        "    \n",
        "    \n",
        "## Orden de complejidad computacional de la función: O(n) respecto al número de partidos, O(p) respecto al tamaño de la población ##"
      ],
      "execution_count": 53,
      "outputs": []
    },
    {
      "cell_type": "code",
      "metadata": {
        "id": "vu6J7ko6DU2j"
      },
      "source": [
        "def fact_mut(generacion):\n",
        "    \n",
        "    n = len(generacion)            # 1\n",
        "    n_i = len(generacion[0][:])    # 1\n",
        "    \n",
        "    for i in range(n):                              # p\n",
        "\n",
        "        if 'V20' not in generacion[i]:              # p\n",
        "            index = np.random.randint(0, n_i)       # p\n",
        "            if generacion[i][index] != 'L20':       # p\n",
        "                generacion[i][index] = 'V20'        # p\n",
        "            \n",
        "        if 'L20' not in generacion[i]:              # p\n",
        "            index = np.random.randint(0, n_i)       # p\n",
        "            if generacion[i][index] != 'V20':       # p\n",
        "                generacion[i][index] = 'L20'        # p\n",
        "                \n",
        "    return generacion              # 1\n",
        "    \n",
        "## Orden de complejidad computacional de la función: O(p) ##"
      ],
      "execution_count": 54,
      "outputs": []
    },
    {
      "cell_type": "code",
      "metadata": {
        "id": "0NeF1ICvDVDw"
      },
      "source": [
        "def cruce_gen(generacion):\n",
        "    \n",
        "    n = len(generacion)       # 1\n",
        "    nueva_gen = []            # 1\n",
        "    \n",
        "    for i in range(int(n/2)):                                     # (1/2)*p --> p\n",
        "        \n",
        "        solucion_p = generacion[2*i]                              # p\n",
        "        solucion_m = generacion[2*i + 1]                          # p\n",
        "        solucion_h = []                                           # p\n",
        "        opciones = list(range(1,len(solucion_p)-1))               # p\n",
        "        conteo = 0                                                # p\n",
        "        indices = []                                              # p\n",
        "\n",
        "        while conteo < 3:                                         # 1\n",
        "            indice = choice(range(len(opciones)))                 # 1\n",
        "            indices.append(opciones.pop(indice))                  # 1\n",
        "            conteo += 1                                           # 1\n",
        "\n",
        "        indices.sort()                                            # p \n",
        "        solucion_h.extend(solucion_p[:indices[0]])                # p\n",
        "        solucion_h.extend(solucion_m[indices[0]:indices[1]])      # p\n",
        "        solucion_h.extend(solucion_p[indices[1]:indices[2]])      # p\n",
        "        solucion_h.extend(solucion_m[indices[2]:])                # p  \n",
        "        nueva_gen.append(solucion_h)                              # p\n",
        "        \n",
        "    nueva_gen = fact_mut(nueva_gen)                           # p\n",
        "                \n",
        "    return nueva_gen          # 1\n",
        "    \n",
        "## Orden de complejidad computacional de la función: O(p) ##"
      ],
      "execution_count": 55,
      "outputs": []
    },
    {
      "cell_type": "code",
      "metadata": {
        "id": "LDRgPgi2DVNn"
      },
      "source": [
        "def f_fitness(generacion, generacion_h, jornada, dic_pesos, dic_factor):\n",
        "    \n",
        "    generacion += generacion_h      # 1\n",
        "    n_sol = len(generacion[0])      # 1\n",
        "    n_jornada = len(jornada)        # 1\n",
        "    audiencias = []                 # 1\n",
        "\n",
        "    for individuo in generacion:                                      # 1.5*p --> p\n",
        "\n",
        "        pesos = pondera_horario(individuo, dic_pesos)                 # p*n\n",
        "        conteo = cuenta_partidos(individuo)                           # p*(n^2)\n",
        "        f_corrector = factor_corrector(conteo, dic_factor)            # p*n\n",
        "        aud_sol = audiencia_solucion(jornada, pesos, f_corrector)     # p*n\n",
        "        audiencias.append(aud_sol)                                    # p\n",
        "        \n",
        "    return audiencias               # 1\n",
        "    \n",
        "## Orden de complejidad computacional de la función: O(n^2) respecto al número de partidos, O(p) respecto al tamaño de la población ##"
      ],
      "execution_count": 56,
      "outputs": []
    },
    {
      "cell_type": "code",
      "metadata": {
        "id": "6VYPmHFBDVXA"
      },
      "source": [
        "def f_seleccion(lista_audiencias, generacion, generacion_h):\n",
        "\n",
        "    audiencias = np.array(lista_audiencias)                                   # 1\n",
        "    threshold = np.percentile(audiencias, 50)                                 # p^2\n",
        "    lista_combinada = list(zip(generacion+generacion_h, lista_audiencias))    # 1\n",
        "    nueva_generacion = [lista_combinada[i][0] for i in range(len(lista_combinada)) if lista_combinada[i][1] > threshold]    # (1.5)*p --> p\n",
        "    n = (2/3)*len(lista_combinada)                                            # 1\n",
        "\n",
        "    while len(nueva_generacion) < n:                   # (1/4)*p --> p\n",
        "\n",
        "        individuo = choice(generacion+generacion_h)    # p\n",
        "        if individuo not in nueva_generacion:          # p\n",
        "            nueva_generacion.append(individuo)         # p\n",
        "\n",
        "    return nueva_generacion                                                   # 1\n",
        "    \n",
        "## Orden de complejidad computacional de la función: O(p^2) ##"
      ],
      "execution_count": 57,
      "outputs": []
    },
    {
      "cell_type": "code",
      "metadata": {
        "id": "a3gIDj09DVeE"
      },
      "source": [
        "def resuelve_jornada_AG(iteraciones, size_poblacion, horarios, jornada, dic_pesos, dic_factor):\n",
        "    \n",
        "    generacion_0 = primera_gen(horarios, size_poblacion, jornada)     # p*n\n",
        "    generacion_0 = fact_mut(generacion_0)                             # p\n",
        "    contador = 0                                                      # 1\n",
        "    \n",
        "    while contador < iteraciones:                                                            # g\n",
        "    \n",
        "        shuffle(generacion_0)                                                                # g*p\n",
        "        generacion_1 = cruce_gen(generacion_0)                                               # g*p\n",
        "        audiencias = f_fitness(generacion_0, generacion_1, jornada, dic_pesos, dic_factor)   # g*p*(n^2)\n",
        "        generacion_0 = f_seleccion(audiencias, generacion_0, generacion_1)                   # g*(p^2)\n",
        "        contador += 1                                                                        # g\n",
        "          \n",
        "    max_audiencia = np.max(audiencias)                                # p\n",
        "    indice_max = audiencias.index(max_audiencia)                      # p\n",
        "    mejor_solucion = generacion_0[indice_max]                         # 1\n",
        "    \n",
        "    print(f'La mejor solución corresponde al conjunto {mejor_solucion}, a la que se estima una audiencia de {round(max_audiencia, 3)} M.')    # 1\n",
        "\n",
        "    return mejor_solucion, max_audiencia                              # 1\n",
        "    \n",
        "## Orden de complejidad computacional del algoritmo: O(n^2) respecto al número de partidos, ##\n",
        "## , O(p^2) respecto al tamaño de la población, O(g) respecto al número de iteraciones ##"
      ],
      "execution_count": 58,
      "outputs": []
    },
    {
      "cell_type": "markdown",
      "metadata": {
        "id": "wgm6570ADVl1"
      },
      "source": [
        "Como se ha estimado, el orden de complejidad es polinomial (cuadrático), siendo el término dominante para el problema propuesto el tamaño de cada generación (p), que siempre será mayor al número de partidos (p>10)."
      ]
    },
    {
      "cell_type": "markdown",
      "metadata": {
        "id": "o2aJb_OUD5ie"
      },
      "source": [
        "## __Pregunta 8__"
      ]
    },
    {
      "cell_type": "markdown",
      "metadata": {
        "id": "6_GrvrKVD5s9"
      },
      "source": [
        "Según el problema (y tenga sentido), diseña un juego de datos de entrada aleatorios"
      ]
    },
    {
      "cell_type": "markdown",
      "metadata": {
        "id": "KNoHSbHpD527"
      },
      "source": [
        "___Esta pregunta está resuelta en la Pregunta 2.___"
      ]
    },
    {
      "cell_type": "code",
      "metadata": {
        "colab": {
          "base_uri": "https://localhost:8080/"
        },
        "id": "Guvrhh82D6A1",
        "outputId": "b865d873-34bf-4da5-b57b-3882257c04b6"
      },
      "source": [
        "# Datos de prueba del algoritmo:\n",
        "\n",
        "horarios_prueba = horarios # Conjunto de los 10 posibles horarios\n",
        "jornada_prueba = jornada # Audiencia estimada según el partido, que ha sido generado aleatoriamente entre los equipos de la liga\n",
        "horarios_dic = {'V20':0.4, 'S12':0.55, 'S16':0.7, 'S18':0.8, 'S20':1, 'D12':0.45, 'D16':0.75, 'D18':0.85, 'D20':1, 'L20':0.4} # Pesos que ajustan\n",
        "#la audiencia de cada partido según el horario que se les ha asignado\n",
        "simul_dic = {1:1, 2:0.75, 3:0.55, 4:0.4, 5:0.3, 6:0.25, 7:0.22, 8:0.2, 9:0.2} # Factor de corrección a aplicar en caso de coincidencia de partidos\n",
        "print(horarios)\n",
        "print(jornada)\n",
        "print(pd_datos['Partido'])"
      ],
      "execution_count": 59,
      "outputs": [
        {
          "output_type": "stream",
          "text": [
            "['V20', 'L20', 'S12', 'S16', 'S18', 'S20', 'D12', 'D16', 'D18', 'D20']\n",
            "[1.3, 0.75, 1.0, 0.9, 0.9, 0.75, 0.75, 1.3, 0.75, 0.75]\n",
            "0    [Atlético de Madrid, Barcelona]\n",
            "1                  [Eibar, Valencia]\n",
            "2           [Leganés, Real Sociedad]\n",
            "3                    [Betis, Getafe]\n",
            "4                [Espanyol, Sevilla]\n",
            "5              [Villareal, Mallorca]\n",
            "6                  [Alavés, Osasuna]\n",
            "7             [Levante, Real Madrid]\n",
            "8                [Valladolid, Celta]\n",
            "9         [Athletic Bilbao, Granada]\n",
            "Name: Partido, dtype: object\n"
          ],
          "name": "stdout"
        }
      ]
    },
    {
      "cell_type": "markdown",
      "metadata": {
        "id": "IfP8tcusEJMA"
      },
      "source": [
        "## __Pregunta 9__"
      ]
    },
    {
      "cell_type": "markdown",
      "metadata": {
        "id": "s7-ivj0CEJXS"
      },
      "source": [
        "Aplica el algoritmo al juego de datos generado"
      ]
    },
    {
      "cell_type": "code",
      "metadata": {
        "colab": {
          "base_uri": "https://localhost:8080/"
        },
        "id": "wNKKCaGsEJhf",
        "outputId": "89ff0d7f-6067-4d39-c5cf-a3571b921ece"
      },
      "source": [
        "# Hacemos correr el algoritmo con parámetros de iteraciones y tamaño de población bajos, para posteriormente apreciar\n",
        "# cómo mejora la solución conforme vamos aumentando estos parámetros\n",
        "\n",
        "solucion, audiencia = resuelve_jornada_AG(5, 100, horarios_prueba, jornada_prueba, horarios_dic, simul_dic)"
      ],
      "execution_count": 60,
      "outputs": [
        {
          "output_type": "stream",
          "text": [
            "La mejor solución corresponde al conjunto ['D18', 'L20', 'S12', 'S18', 'L20', 'S16', 'D18', 'V20', 'S20', 'D16'], a la que se estima una audiencia de 6.42 M.\n"
          ],
          "name": "stdout"
        }
      ]
    },
    {
      "cell_type": "code",
      "metadata": {
        "colab": {
          "base_uri": "https://localhost:8080/"
        },
        "id": "u4coQjgpEJp3",
        "outputId": "dd83ab50-7fce-4501-8fc6-0a7272922b77"
      },
      "source": [
        "solucion, audiencia = resuelve_jornada_AG(10, 1000, horarios_prueba, jornada_prueba, horarios_dic, simul_dic)"
      ],
      "execution_count": 61,
      "outputs": [
        {
          "output_type": "stream",
          "text": [
            "La mejor solución corresponde al conjunto ['S16', 'D20', 'D18', 'D12', 'S18', 'D18', 'S20', 'S18', 'L20', 'D16'], a la que se estima una audiencia de 6.633 M.\n"
          ],
          "name": "stdout"
        }
      ]
    },
    {
      "cell_type": "code",
      "metadata": {
        "colab": {
          "base_uri": "https://localhost:8080/"
        },
        "id": "Ru02SyHhEJzb",
        "outputId": "27b75c85-816e-4047-e97c-d5501a9da094"
      },
      "source": [
        "solucion, audiencia = resuelve_jornada_AG(15, 5000, horarios_prueba, jornada_prueba, horarios_dic, simul_dic)"
      ],
      "execution_count": 62,
      "outputs": [
        {
          "output_type": "stream",
          "text": [
            "La mejor solución corresponde al conjunto ['S16', 'D12', 'D16', 'S18', 'V20', 'S18', 'D20', 'S20', 'D18', 'L20'], a la que se estima una audiencia de 6.648 M.\n"
          ],
          "name": "stdout"
        }
      ]
    },
    {
      "cell_type": "code",
      "metadata": {
        "colab": {
          "base_uri": "https://localhost:8080/"
        },
        "id": "1EOpotbdEJ9r",
        "outputId": "328bb74f-c2db-468f-a18f-423c781a1003"
      },
      "source": [
        "solucion, audiencia = resuelve_jornada_AG(20, 10000, horarios_prueba, jornada_prueba, horarios_dic, simul_dic)"
      ],
      "execution_count": 63,
      "outputs": [
        {
          "output_type": "stream",
          "text": [
            "La mejor solución corresponde al conjunto ['D20', 'D18', 'V20', 'L20', 'D20', 'D16', 'S16', 'S20', 'S18', 'S16'], a la que se estima una audiencia de 6.65 M.\n"
          ],
          "name": "stdout"
        }
      ]
    },
    {
      "cell_type": "code",
      "metadata": {
        "id": "FddkWKBqEKGg"
      },
      "source": [
        "# Completamos los datos tabulados con los resultados del algoritmo\n",
        "\n",
        "pd_datos['Horario'] = solucion\n",
        "pd_datos['Ponderacion'] = pd_datos['Audiencia base'] * pondera_horario(solucion, horarios_dic)\n",
        "pd_datos['Partidos simultaneos'] = cuenta_partidos(solucion)\n",
        "pd_datos['F coincidencia'] = factor_corrector(pd_datos['Partidos simultaneos'], simul_dic)\n",
        "pd_datos['Audiencia estimada'] = pd_datos['Ponderacion'] * pd_datos['F coincidencia']"
      ],
      "execution_count": 64,
      "outputs": []
    },
    {
      "cell_type": "code",
      "metadata": {
        "colab": {
          "base_uri": "https://localhost:8080/",
          "height": 363
        },
        "id": "s5LRxKBKEKOo",
        "outputId": "ccde9f15-e6f4-4c7e-ab8b-5063664db6bc"
      },
      "source": [
        "display(pd_datos)"
      ],
      "execution_count": 65,
      "outputs": [
        {
          "output_type": "display_data",
          "data": {
            "text/html": [
              "<div>\n",
              "<style scoped>\n",
              "    .dataframe tbody tr th:only-of-type {\n",
              "        vertical-align: middle;\n",
              "    }\n",
              "\n",
              "    .dataframe tbody tr th {\n",
              "        vertical-align: top;\n",
              "    }\n",
              "\n",
              "    .dataframe thead th {\n",
              "        text-align: right;\n",
              "    }\n",
              "</style>\n",
              "<table border=\"1\" class=\"dataframe\">\n",
              "  <thead>\n",
              "    <tr style=\"text-align: right;\">\n",
              "      <th></th>\n",
              "      <th>Partido</th>\n",
              "      <th>Categoria</th>\n",
              "      <th>Audiencia base</th>\n",
              "      <th>Horario</th>\n",
              "      <th>Ponderacion</th>\n",
              "      <th>Partidos simultaneos</th>\n",
              "      <th>F coincidencia</th>\n",
              "      <th>Audiencia estimada</th>\n",
              "    </tr>\n",
              "  </thead>\n",
              "  <tbody>\n",
              "    <tr>\n",
              "      <th>0</th>\n",
              "      <td>[Atlético de Madrid, Barcelona]</td>\n",
              "      <td>[B, A]</td>\n",
              "      <td>1.30</td>\n",
              "      <td>D20</td>\n",
              "      <td>1.3000</td>\n",
              "      <td>2</td>\n",
              "      <td>0.75</td>\n",
              "      <td>0.97500</td>\n",
              "    </tr>\n",
              "    <tr>\n",
              "      <th>1</th>\n",
              "      <td>[Eibar, Valencia]</td>\n",
              "      <td>[C, B]</td>\n",
              "      <td>0.75</td>\n",
              "      <td>D18</td>\n",
              "      <td>0.6375</td>\n",
              "      <td>1</td>\n",
              "      <td>1.00</td>\n",
              "      <td>0.63750</td>\n",
              "    </tr>\n",
              "    <tr>\n",
              "      <th>2</th>\n",
              "      <td>[Leganés, Real Sociedad]</td>\n",
              "      <td>[C, A]</td>\n",
              "      <td>1.00</td>\n",
              "      <td>V20</td>\n",
              "      <td>0.4000</td>\n",
              "      <td>1</td>\n",
              "      <td>1.00</td>\n",
              "      <td>0.40000</td>\n",
              "    </tr>\n",
              "    <tr>\n",
              "      <th>3</th>\n",
              "      <td>[Betis, Getafe]</td>\n",
              "      <td>[B, B]</td>\n",
              "      <td>0.90</td>\n",
              "      <td>L20</td>\n",
              "      <td>0.3600</td>\n",
              "      <td>1</td>\n",
              "      <td>1.00</td>\n",
              "      <td>0.36000</td>\n",
              "    </tr>\n",
              "    <tr>\n",
              "      <th>4</th>\n",
              "      <td>[Espanyol, Sevilla]</td>\n",
              "      <td>[B, B]</td>\n",
              "      <td>0.90</td>\n",
              "      <td>D20</td>\n",
              "      <td>0.9000</td>\n",
              "      <td>2</td>\n",
              "      <td>0.75</td>\n",
              "      <td>0.67500</td>\n",
              "    </tr>\n",
              "    <tr>\n",
              "      <th>5</th>\n",
              "      <td>[Villareal, Mallorca]</td>\n",
              "      <td>[B, C]</td>\n",
              "      <td>0.75</td>\n",
              "      <td>D16</td>\n",
              "      <td>0.5625</td>\n",
              "      <td>1</td>\n",
              "      <td>1.00</td>\n",
              "      <td>0.56250</td>\n",
              "    </tr>\n",
              "    <tr>\n",
              "      <th>6</th>\n",
              "      <td>[Alavés, Osasuna]</td>\n",
              "      <td>[B, C]</td>\n",
              "      <td>0.75</td>\n",
              "      <td>S16</td>\n",
              "      <td>0.5250</td>\n",
              "      <td>2</td>\n",
              "      <td>0.75</td>\n",
              "      <td>0.39375</td>\n",
              "    </tr>\n",
              "    <tr>\n",
              "      <th>7</th>\n",
              "      <td>[Levante, Real Madrid]</td>\n",
              "      <td>[B, A]</td>\n",
              "      <td>1.30</td>\n",
              "      <td>S20</td>\n",
              "      <td>1.3000</td>\n",
              "      <td>1</td>\n",
              "      <td>1.00</td>\n",
              "      <td>1.30000</td>\n",
              "    </tr>\n",
              "    <tr>\n",
              "      <th>8</th>\n",
              "      <td>[Valladolid, Celta]</td>\n",
              "      <td>[C, B]</td>\n",
              "      <td>0.75</td>\n",
              "      <td>S18</td>\n",
              "      <td>0.6000</td>\n",
              "      <td>1</td>\n",
              "      <td>1.00</td>\n",
              "      <td>0.60000</td>\n",
              "    </tr>\n",
              "    <tr>\n",
              "      <th>9</th>\n",
              "      <td>[Athletic Bilbao, Granada]</td>\n",
              "      <td>[B, C]</td>\n",
              "      <td>0.75</td>\n",
              "      <td>S16</td>\n",
              "      <td>0.5250</td>\n",
              "      <td>2</td>\n",
              "      <td>0.75</td>\n",
              "      <td>0.39375</td>\n",
              "    </tr>\n",
              "  </tbody>\n",
              "</table>\n",
              "</div>"
            ],
            "text/plain": [
              "                           Partido  ... Audiencia estimada\n",
              "0  [Atlético de Madrid, Barcelona]  ...            0.97500\n",
              "1                [Eibar, Valencia]  ...            0.63750\n",
              "2         [Leganés, Real Sociedad]  ...            0.40000\n",
              "3                  [Betis, Getafe]  ...            0.36000\n",
              "4              [Espanyol, Sevilla]  ...            0.67500\n",
              "5            [Villareal, Mallorca]  ...            0.56250\n",
              "6                [Alavés, Osasuna]  ...            0.39375\n",
              "7           [Levante, Real Madrid]  ...            1.30000\n",
              "8              [Valladolid, Celta]  ...            0.60000\n",
              "9       [Athletic Bilbao, Granada]  ...            0.39375\n",
              "\n",
              "[10 rows x 8 columns]"
            ]
          },
          "metadata": {
            "tags": []
          }
        }
      ]
    },
    {
      "cell_type": "markdown",
      "metadata": {
        "id": "QhOepEIaFCE3"
      },
      "source": [
        "## __Pregunta 10__"
      ]
    },
    {
      "cell_type": "markdown",
      "metadata": {
        "id": "MWYM7RjWFCQO"
      },
      "source": [
        "Enumera las referencias que has utilizado (si ha sido necesario) para llevar a cabo el trabajo"
      ]
    },
    {
      "cell_type": "markdown",
      "metadata": {
        "id": "PyDkaTjuFCaV"
      },
      "source": [
        "___No ha sido necesaria ninguna referencia más allá del material de clase, las grabaciones y las Actividades Guiadas.___"
      ]
    },
    {
      "cell_type": "markdown",
      "metadata": {
        "id": "HGQ4cICAFCjq"
      },
      "source": [
        "## __Pregunta 11__"
      ]
    },
    {
      "cell_type": "markdown",
      "metadata": {
        "id": "G9VhAXolFCuF"
      },
      "source": [
        "Describe brevemente las lineas de como crees que es posible avanzar en el estudio del problema. Ten en cuenta incluso posibles variaciones del problema y/o variaciones al alza del tamaño"
      ]
    },
    {
      "cell_type": "markdown",
      "metadata": {
        "id": "1KG05o4XFC5z"
      },
      "source": [
        "___Respuesta:___"
      ]
    },
    {
      "cell_type": "markdown",
      "metadata": {
        "id": "c4r23t47FDC7"
      },
      "source": [
        "Mejoras al algoritmo genético:\n",
        "\n",
        "- Se pueden estudiar estadísticamente los resultados si se modifican en el algoritmo los criterios de cruce, por ejemplo, cambiando el n-point crossover por un uniform crossover.\n",
        "- Igualmente, se puede estudiar el efecto de aplicar mutación a todas las soluciones hijo. En este caso, se generarían las soluciones hijo, se aplicarían las mutaciones y se pasaría la función de factibilidad, que aplicaría a su vez las mutaciones necesarias para conseguir que todas las soluciones cumplieran las restricciones del problema.\n",
        "- Por último, se pueden estudiar los resultados al modificar el criterio de selección (cambio de las proporciones de supervivencia, optar por un selección probabilista para completar la generación...).\n",
        "\n",
        "Alternativa al algoritmo genético:\n",
        "\n",
        "- Plantear un algoritmo de búsqueda de la solución basado en ramificación y poda.\n",
        "- Las soluciones se desarrollan por etapas, siendo la raíz del árbol una lista de n posiciones vacías, y el primer nivel cada uno de los distintos horarios en la primera posición de dicha lista.\n",
        "- Diseñar una función de evaluación que establezca de forma probabilística una cota inferior y superior en términos de audiencia esperada.\n",
        "\n",
        "Cambios en la dimensionalidad/restricciones del problema:\n",
        "\n",
        "- En el caso de que las restricciones del problema se modificaran, es probable que la complejidad del algoritmo genético no cambiara y simplemente hubiera que redefinir la función de factibilidad.\n",
        "- Como el término de dimensionalidad dominante del problema resuelto con el algoritmo genético el el tamaño de cada generación, en principio, asignar horario a un mayor número de partidos no sería un problema en términos de eficacia computaciones. Incluso en el caso de que el número de partidos se convirtiera en la dimensión dominante, el algoritmo mantendría un orden de complejidad cuadrático."
      ]
    }
  ]
}