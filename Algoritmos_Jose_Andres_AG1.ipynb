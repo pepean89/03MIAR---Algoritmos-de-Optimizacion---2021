{
  "nbformat": 4,
  "nbformat_minor": 0,
  "metadata": {
    "colab": {
      "name": "Algoritmos - Jose Andres - AG1.ipynb",
      "provenance": [],
      "authorship_tag": "ABX9TyO5uBhPVSTVPSupHDdJmShV",
      "include_colab_link": true
    },
    "kernelspec": {
      "name": "python3",
      "display_name": "Python 3"
    },
    "language_info": {
      "name": "python"
    }
  },
  "cells": [
    {
      "cell_type": "markdown",
      "metadata": {
        "id": "view-in-github",
        "colab_type": "text"
      },
      "source": [
        "<a href=\"https://colab.research.google.com/github/pepean89/03MIAR---Algoritmos-de-Optimizacion---2021/blob/main/Algoritmos_Jose_Andres_AG1.ipynb\" target=\"_parent\"><img src=\"https://colab.research.google.com/assets/colab-badge.svg\" alt=\"Open In Colab\"/></a>"
      ]
    },
    {
      "cell_type": "markdown",
      "metadata": {
        "id": "uGE2DA9F-hNv"
      },
      "source": [
        "# __Actividad Guiada 1 - 03MIAR Algoritmos de Optimizacion__\n",
        "\n",
        "### Nombre: JOSÉ ANDRÉS RAMÍREZ\n",
        "\n",
        "https://github.com/pepean89/03MIAR---Algoritmos-de-Optimizacion---2021"
      ]
    },
    {
      "cell_type": "markdown",
      "metadata": {
        "id": "wW4iX77Q-p2j"
      },
      "source": [
        "## __1. Técnica \"divide y vencerás\": Problema Torres de Hanoi__"
      ]
    },
    {
      "cell_type": "code",
      "metadata": {
        "id": "5aKCEhLa-tJK"
      },
      "source": [
        "def torres_hanoi(n, desde, hasta):\n",
        "    \n",
        "    # n: nº de fichas\n",
        "    # desde: torre de origen\n",
        "    # hasta: torre objetivo\n",
        "    # 6-desde-hasta: torre pivote\n",
        "    \n",
        "    if n == 1:\n",
        "        print(\"mueve desde torre \" + str(desde) + \" hasta torre \" + str(hasta))\n",
        "    else:\n",
        "        torres_hanoi(n-1, desde, 6-desde-hasta)\n",
        "        print(\"mueve desde torre \" + str(desde) + \" hasta torre \" + str(hasta))\n",
        "        torres_hanoi(n-1, 6-desde-hasta, hasta)"
      ],
      "execution_count": 1,
      "outputs": []
    },
    {
      "cell_type": "code",
      "metadata": {
        "colab": {
          "base_uri": "https://localhost:8080/"
        },
        "id": "XrgkWqiy-uSl",
        "outputId": "6b5b5fdf-cd96-4f32-b7a7-621457cf2771"
      },
      "source": [
        "torres_hanoi(4,1,3)"
      ],
      "execution_count": 2,
      "outputs": [
        {
          "output_type": "stream",
          "text": [
            "mueve desde torre 1 hasta torre 2\n",
            "mueve desde torre 1 hasta torre 3\n",
            "mueve desde torre 2 hasta torre 3\n",
            "mueve desde torre 1 hasta torre 2\n",
            "mueve desde torre 3 hasta torre 1\n",
            "mueve desde torre 3 hasta torre 2\n",
            "mueve desde torre 1 hasta torre 2\n",
            "mueve desde torre 1 hasta torre 3\n",
            "mueve desde torre 2 hasta torre 3\n",
            "mueve desde torre 2 hasta torre 1\n",
            "mueve desde torre 3 hasta torre 1\n",
            "mueve desde torre 2 hasta torre 3\n",
            "mueve desde torre 1 hasta torre 2\n",
            "mueve desde torre 1 hasta torre 3\n",
            "mueve desde torre 2 hasta torre 3\n"
          ],
          "name": "stdout"
        }
      ]
    },
    {
      "cell_type": "markdown",
      "metadata": {
        "id": "6bKAovFl-2qp"
      },
      "source": [
        "__Complejidad del algoritmo:__\n",
        "$$\n",
        "T(1) = 1\n",
        "$$\n",
        "$$\n",
        "T(n) = 1 +2T(n-1) = 1+2(1 + 2*T(n-2)) = 1 + 2 + 2^2 + ... + 2T(0) = 2^n -1\n",
        "$$\n",
        "$$\n",
        "O(2^n)\n",
        "$$"
      ]
    },
    {
      "cell_type": "markdown",
      "metadata": {
        "id": "jp7e8u2Z-8NO"
      },
      "source": [
        "## __2. Técnicas voraces: Problema de cambio monetario__"
      ]
    },
    {
      "cell_type": "code",
      "metadata": {
        "id": "iHjnXwWJ-8z6"
      },
      "source": [
        "def cambio_monedas(cantidad, sistema):\n",
        "    \n",
        "    # cantidad: valor del cambio, en unidades del sistema monetario\n",
        "    # sistema: conjunto de las distintas monedas del sistema\n",
        "    \n",
        "    # ordenamos el sistema de mayor a menor:\n",
        "    sistema.sort(reverse=True)\n",
        "    print(\"Sistema: \", sistema)\n",
        "    \n",
        "    # inicializamos la variable solucion\n",
        "    solucion = [0 for i in sistema]\n",
        "    valor_acumulado = 0\n",
        "    \n",
        "    for i in range(len(sistema)):\n",
        "        monedas = int( (cantidad - valor_acumulado)/sistema[i] )\n",
        "        solucion[i] = monedas\n",
        "        valor_acumulado += monedas * sistema[i]\n",
        "        \n",
        "        if valor_acumulado == cantidad: return solucion\n",
        "\n",
        "    if valor_acumulado != cantidad:\n",
        "        return f'El problema no tiene solución para el sistema monetario dado'\n",
        "    else:\n",
        "        return solucion"
      ],
      "execution_count": 3,
      "outputs": []
    },
    {
      "cell_type": "code",
      "metadata": {
        "colab": {
          "base_uri": "https://localhost:8080/"
        },
        "id": "uvSDZGIX-_Uy",
        "outputId": "23221de4-adc7-4af0-c004-ee399a0beb84"
      },
      "source": [
        "sistema = [100, 1, 5, 50, 10, 25]\n",
        "print(cambio_monedas(271, sistema))"
      ],
      "execution_count": 4,
      "outputs": [
        {
          "output_type": "stream",
          "text": [
            "Sistema:  [100, 50, 25, 10, 5, 1]\n",
            "[2, 1, 0, 2, 0, 1]\n"
          ],
          "name": "stdout"
        }
      ]
    },
    {
      "cell_type": "code",
      "metadata": {
        "colab": {
          "base_uri": "https://localhost:8080/"
        },
        "id": "LedyIg3U_CGR",
        "outputId": "59a8ec92-98f0-491c-a297-bc50b6027c08"
      },
      "source": [
        "sistema = [11, 5, 1]\n",
        "print(cambio_monedas(15, sistema)) # La solución no es óptima!"
      ],
      "execution_count": 5,
      "outputs": [
        {
          "output_type": "stream",
          "text": [
            "Sistema:  [11, 5, 1]\n",
            "[1, 0, 4]\n"
          ],
          "name": "stdout"
        }
      ]
    },
    {
      "cell_type": "markdown",
      "metadata": {
        "id": "7S7vEz9D_H3N"
      },
      "source": [
        "## __3. Backtracking: Problema de las damas__"
      ]
    },
    {
      "cell_type": "code",
      "metadata": {
        "id": "N5ZzsAuV_I0Q"
      },
      "source": [
        "# Verifica que en la solución parcial no hay amenzas entre damas\n",
        "def es_prometedora(solucion, etapa):\n",
        " \n",
        "    # Verifica si hay dos damas en la misma fila:\n",
        "    for i in range(etapa+1):\n",
        "        if solucion.count(solucion[i]) > 1:\n",
        "            return False\n",
        "  \n",
        "    # Verifica si hay dos damas en la misma diagonal\n",
        "        for j in range(i+1, etapa +1 ):       \n",
        "            if abs(i-j) == abs(solucion[i]-solucion[j]):\n",
        "                return False\n",
        "        \n",
        "    return True"
      ],
      "execution_count": 6,
      "outputs": []
    },
    {
      "cell_type": "code",
      "metadata": {
        "id": "LhdDpbEd_K5p"
      },
      "source": [
        "# Traduce la solución al tablero\n",
        "def escribe_solucion(s):\n",
        "\n",
        "    n = len(s)\n",
        "    for x in range(n):\n",
        "        print(\"\")\n",
        "        for i in range(n):\n",
        "            if s[i] == x+1:\n",
        "                print(\" X \" , end=\"\")\n",
        "            else:\n",
        "                print(\" - \", end=\"\")\n"
      ],
      "execution_count": 7,
      "outputs": []
    },
    {
      "cell_type": "code",
      "metadata": {
        "id": "5s2d-ATI_N-A"
      },
      "source": [
        "# Proceso principal de N-damas\n",
        "def damas(n,solucion=[],etapa=0): \n",
        "    \n",
        "    # N: tamaño del tablero\n",
        "    # solucion: solución parcial\n",
        "    # etapa: nº de damas colocadas en la solución parcial\n",
        "    \n",
        "    # Inicializa la solución con una lista de ceros:\n",
        "    if len(solucion) == 0:\n",
        "        solucion = [0 for i in range(n)]\n",
        "        \n",
        "    # Recorremos todas las damas:\n",
        "    for i in range(1, n+1):\n",
        "        solucion[etapa] = i\n",
        "        \n",
        "        if es_prometedora(solucion, etapa):\n",
        "            if etapa == n-1:\n",
        "                print(\"\\n\\nLa solución es: \")\n",
        "                print(solucion)\n",
        "                escribe_solucion(solucion)\n",
        "            else:\n",
        "                # solución prometedora\n",
        "                damas(n,solucion,etapa+1)\n",
        "        else:\n",
        "            # solución no prometedora\n",
        "            None\n",
        "            \n",
        "        solucion[etapa] = 0"
      ],
      "execution_count": 8,
      "outputs": []
    },
    {
      "cell_type": "code",
      "metadata": {
        "colab": {
          "base_uri": "https://localhost:8080/"
        },
        "id": "SM_OWK5h_QdZ",
        "outputId": "509e2520-8e2c-4e23-a1f6-a23ffcc8bd90"
      },
      "source": [
        "damas(4)"
      ],
      "execution_count": 9,
      "outputs": [
        {
          "output_type": "stream",
          "text": [
            "\n",
            "\n",
            "La solución es: \n",
            "[2, 4, 1, 3]\n",
            "\n",
            " -  -  X  - \n",
            " X  -  -  - \n",
            " -  -  -  X \n",
            " -  X  -  - \n",
            "\n",
            "La solución es: \n",
            "[3, 1, 4, 2]\n",
            "\n",
            " -  X  -  - \n",
            " -  -  -  X \n",
            " X  -  -  - \n",
            " -  -  X  - "
          ],
          "name": "stdout"
        }
      ]
    },
    {
      "cell_type": "markdown",
      "metadata": {
        "id": "2lPQ9IYz_VtB"
      },
      "source": [
        "## __4. Programación dinámica: Problema del viaje por el río__"
      ]
    },
    {
      "cell_type": "code",
      "metadata": {
        "id": "6m2gMcyc_X1v"
      },
      "source": [
        "tarifas = [\n",
        "[0,5,4,3,999,999,999],\n",
        "[999,0,999,2,3,999,11],\n",
        "[999,999, 0,1,999,4,10],\n",
        "[999,999,999, 0,5,6,9],\n",
        "[999,999, 999,999,0,999,4],\n",
        "[999,999, 999,999,999,0,3],\n",
        "[999,999,999,999,999,999,0]\n",
        "]\n",
        "\n",
        "# Se puede utilizar float(\"inf\") del módulo math"
      ],
      "execution_count": 10,
      "outputs": []
    },
    {
      "cell_type": "code",
      "metadata": {
        "id": "abmThPqi_ac1"
      },
      "source": [
        "# Calcula la matrices de \"precios\" y \"rutas\"\n",
        "def calcular_precios(tarifas):\n",
        "    \n",
        "    # precios: contiene la matriz del mejor precio para ir de un nodo a otro\n",
        "    # rutas: contiene los nodos intermedios para ir de un nodo a otro\n",
        "    \n",
        "    # nº total de nodos:\n",
        "    n = len(tarifas[0])\n",
        "    \n",
        "    # inicialización de la tabla de precios:\n",
        "    precios = [ [9999]*n for i in [9999]*n ]\n",
        "    ruta = [ [\"\"]*n for i in [\"\"]*n ]\n",
        "  \n",
        "    # Se recorren todos los nodos con dos bucles(origen - destino)\n",
        "    #  para ir construyendo la matriz de PRECIOS:\n",
        "    for i in range(n-1):\n",
        "        for j in range(i+1,n):\n",
        "            minimo = tarifas[i][j]\n",
        "            ruta[i][j] = i\n",
        "            \n",
        "            for k in range(i,j):\n",
        "                if precios[i][k] + tarifas[k][j] < minimo:\n",
        "                    minimo = min(minimo, precios[i][k] + tarifas[k][j])\n",
        "                    ruta[i][j] = k\n",
        "                precios[i][j] = minimo\n",
        "    \n",
        "    return precios, ruta"
      ],
      "execution_count": 11,
      "outputs": []
    },
    {
      "cell_type": "code",
      "metadata": {
        "colab": {
          "base_uri": "https://localhost:8080/"
        },
        "id": "ERycfVfZ_dHO",
        "outputId": "f86f237c-b0d0-4ec1-81cb-0ae17e46064d"
      },
      "source": [
        "precios, ruta = calcular_precios(tarifas)  \n",
        "\n",
        "print(\"precios:\")\n",
        "for i in range(len(tarifas)):\n",
        "    print(precios[i])\n",
        "\n",
        "print(\"\\nruta:\")  \n",
        "for i in range(len(tarifas)):\n",
        "    print(ruta[i])  "
      ],
      "execution_count": 12,
      "outputs": [
        {
          "output_type": "stream",
          "text": [
            "precios:\n",
            "[9999, 5, 4, 3, 8, 8, 11]\n",
            "[9999, 9999, 999, 2, 3, 8, 7]\n",
            "[9999, 9999, 9999, 1, 6, 4, 7]\n",
            "[9999, 9999, 9999, 9999, 5, 6, 9]\n",
            "[9999, 9999, 9999, 9999, 9999, 999, 4]\n",
            "[9999, 9999, 9999, 9999, 9999, 9999, 3]\n",
            "[9999, 9999, 9999, 9999, 9999, 9999, 9999]\n",
            "\n",
            "ruta:\n",
            "['', 0, 0, 0, 1, 2, 5]\n",
            "['', '', 1, 1, 1, 3, 4]\n",
            "['', '', '', 2, 3, 2, 5]\n",
            "['', '', '', '', 3, 3, 3]\n",
            "['', '', '', '', '', 4, 4]\n",
            "['', '', '', '', '', '', 5]\n",
            "['', '', '', '', '', '', '']\n"
          ],
          "name": "stdout"
        }
      ]
    },
    {
      "cell_type": "code",
      "metadata": {
        "id": "1m1D_1K2_fWb"
      },
      "source": [
        "# Determina la ruta con recursividad\n",
        "def calcular_ruta(ruta, desde, hasta):\n",
        "\n",
        "    if desde == hasta:\n",
        "        return desde\n",
        "    else:\n",
        "        return str(calcular_ruta( ruta, desde, ruta[desde][hasta])) + ',' + str(ruta[desde][hasta]) "
      ],
      "execution_count": 13,
      "outputs": []
    },
    {
      "cell_type": "code",
      "metadata": {
        "colab": {
          "base_uri": "https://localhost:8080/",
          "height": 72
        },
        "id": "TSNMJ4oS_hxQ",
        "outputId": "8db0aebf-167b-45b8-c5fe-299c79c2c174"
      },
      "source": [
        "print(\"\\nLa ruta es: \")\n",
        "calcular_ruta(ruta, 0,6)"
      ],
      "execution_count": 14,
      "outputs": [
        {
          "output_type": "stream",
          "text": [
            "\n",
            "La ruta es: \n"
          ],
          "name": "stdout"
        },
        {
          "output_type": "execute_result",
          "data": {
            "application/vnd.google.colaboratory.intrinsic+json": {
              "type": "string"
            },
            "text/plain": [
              "'0,0,2,5'"
            ]
          },
          "metadata": {
            "tags": []
          },
          "execution_count": 14
        }
      ]
    }
  ]
}