{
  "nbformat": 4,
  "nbformat_minor": 0,
  "metadata": {
    "colab": {
      "name": "Algoritmos - Jose Andres - AG2.ipynb",
      "provenance": [],
      "authorship_tag": "ABX9TyNuZK5/44iZIBCJT8YO9Qfc",
      "include_colab_link": true
    },
    "kernelspec": {
      "name": "python3",
      "display_name": "Python 3"
    },
    "language_info": {
      "name": "python"
    }
  },
  "cells": [
    {
      "cell_type": "markdown",
      "metadata": {
        "id": "view-in-github",
        "colab_type": "text"
      },
      "source": [
        "<a href=\"https://colab.research.google.com/github/pepean89/03MIAR---Algoritmos-de-Optimizacion---2021/blob/main/Algoritmos_Jose_Andres_AG2.ipynb\" target=\"_parent\"><img src=\"https://colab.research.google.com/assets/colab-badge.svg\" alt=\"Open In Colab\"/></a>"
      ]
    },
    {
      "cell_type": "markdown",
      "metadata": {
        "id": "kzT7rD0wGRcI"
      },
      "source": [
        "# __Actividad Guiada 2 - 03MIAR Algoritmos de Optimizacion__\n",
        "\n",
        "### Nombre: JOSÉ ANDRÉS RAMÍREZ\n",
        "\n",
        "https://github.com/pepean89/03MIAR---Algoritmos-de-Optimizacion---2021"
      ]
    },
    {
      "cell_type": "markdown",
      "metadata": {
        "id": "3YK2T9UAGY4Z"
      },
      "source": [
        "## __1. Técnica de búsqueda con ramificación y poda__"
      ]
    },
    {
      "cell_type": "markdown",
      "metadata": {
        "id": "VdavB-ocGc4I"
      },
      "source": [
        "### __Problema de asignación de tareas__"
      ]
    },
    {
      "cell_type": "code",
      "metadata": {
        "id": "0sNCExHWGdll"
      },
      "source": [
        "costes = [[11,12,18,40],\n",
        "        [14,15,13,22],\n",
        "        [11,17,19,23],\n",
        "        [17,14,20,28]]"
      ],
      "execution_count": 1,
      "outputs": []
    },
    {
      "cell_type": "code",
      "metadata": {
        "id": "XeX_VA98GZ0V"
      },
      "source": [
        "#Calculo del valor de una solucion parcial\n",
        "def calcula_valor(s,costes):\n",
        "    valor = 0\n",
        "    for i in range(len(s)):\n",
        "        valor += costes[s[i]][i] \n",
        "    return valor"
      ],
      "execution_count": 2,
      "outputs": []
    },
    {
      "cell_type": "code",
      "metadata": {
        "colab": {
          "base_uri": "https://localhost:8080/"
        },
        "id": "8dCPXXmTGjcl",
        "outputId": "fd24e6b6-73d3-4223-d714-654753db3cf3"
      },
      "source": [
        "calcula_valor((0,1,2,3), costes)"
      ],
      "execution_count": 3,
      "outputs": [
        {
          "output_type": "execute_result",
          "data": {
            "text/plain": [
              "73"
            ]
          },
          "metadata": {
            "tags": []
          },
          "execution_count": 3
        }
      ]
    },
    {
      "cell_type": "code",
      "metadata": {
        "id": "CCUWh8FwGlpd"
      },
      "source": [
        "#Coste inferior para soluciones parciales\n",
        "#  (1,3,) Se asigna la tarea 1 al agente 0 y la tarea 3 al agente 1\n",
        "\n",
        "def CI(s,costes):\n",
        "    valor = 0\n",
        "    #Valores establecidos\n",
        "    for i in range(len(s)):\n",
        "        valor += costes[i][s[i]]\n",
        "\n",
        "    #Estimacion\n",
        "    for i in range(len(s),len(costes)):\n",
        "        valor += min([costes[j][i] for j in range(len(s),len(costes))])\n",
        "    return valor"
      ],
      "execution_count": 4,
      "outputs": []
    },
    {
      "cell_type": "code",
      "metadata": {
        "id": "GfDs-t0EGoSl"
      },
      "source": [
        "def CS(s,costes):\n",
        "    valor = 0\n",
        "    #Valores establecidos\n",
        "    for i in range(len(s)):\n",
        "        valor += costes[i][s[i]]\n",
        "\n",
        "    #Estimacion\n",
        "    for i in range(len(s), len(costes)):\n",
        "        valor += max([costes[j][i] for j in range(len(s),len(costes))])\n",
        "    return valor"
      ],
      "execution_count": 5,
      "outputs": []
    },
    {
      "cell_type": "code",
      "metadata": {
        "colab": {
          "base_uri": "https://localhost:8080/"
        },
        "id": "jdfF_l0bGqn9",
        "outputId": "d4936160-8da0-49d9-b6bf-72c935f0e788"
      },
      "source": [
        "CS((0,1),costes)"
      ],
      "execution_count": 6,
      "outputs": [
        {
          "output_type": "execute_result",
          "data": {
            "text/plain": [
              "74"
            ]
          },
          "metadata": {
            "tags": []
          },
          "execution_count": 6
        }
      ]
    },
    {
      "cell_type": "code",
      "metadata": {
        "id": "C5pTzg5JGsln"
      },
      "source": [
        "#Genera tantos hijos como como posibilidades haya para la siguiente elemento de la tupla\n",
        "#(0,) -> (0,1), (0,2), (0,3)\n",
        "def crear_hijos(nodo,n):\n",
        "    hijos = []\n",
        "    for i in range(n):\n",
        "        if i not in nodo:\n",
        "            hijos.append({'s': nodo +(i,)})\n",
        "    return hijos"
      ],
      "execution_count": 7,
      "outputs": []
    },
    {
      "cell_type": "code",
      "metadata": {
        "id": "s1LhJhWpGvQp"
      },
      "source": [
        "def ramificacion_y_poda(costes):\n",
        "    #Construccion iterativa de soluciones(arbol). En cada etapa asignamos un agente(ramas).\n",
        "    #Nodos del grafo  { s:(1,2),CI:3,CS:5  }\n",
        "    #print(COSTES)\n",
        "    dimension = len(costes)  \n",
        "    mejor_solucion = tuple(i for i in range(len(costes)))\n",
        "    cota_sup = calcula_valor(mejor_solucion,costes)\n",
        "    #print(\"Cota Superior:\", CotaSup)\n",
        "\n",
        "    nodos = []\n",
        "    nodos.append({'s':(), 'ci':CI((),costes)})\n",
        "\n",
        "    iteracion = 0\n",
        "\n",
        "    while len(nodos) > 0:\n",
        "        \n",
        "        iteracion += 1\n",
        "\n",
        "        nodo_prometedor = [min(nodos, key = lambda x: x['ci'])][0]['s']\n",
        "        #print(\"Nodo prometedor:\", nodo_prometedor)\n",
        "\n",
        "        #Ramificacion\n",
        "        #Se generan los hijos\n",
        "        hijos = [{'s':x['s'], 'ci':CI(x['s'], costes)} for x in crear_hijos(nodo_prometedor,dimension)]\n",
        "\n",
        "        #Revisamos la cota superior y nos quedamos con la mejor solucion si llegamos a una solucion final\n",
        "        nodo_final = [x for x in hijos if len(x['s']) == dimension]\n",
        "        if len(nodo_final) > 0: \n",
        "            #print(\"\\n********Soluciones:\",  [x for x in HIJOS if len(x['s']) == DIMENSION  ] )\n",
        "            if nodo_final[0]['ci'] < cota_sup:\n",
        "                cota_sup = nodo_final[0]['ci']\n",
        "                mejor_solucion = nodo_final\n",
        " \n",
        "        #Poda\n",
        "        hijos = [x for x in hijos if x['ci'] < cota_sup]\n",
        "\n",
        "        #Añadimos los hijos \n",
        "        nodos.extend(hijos) \n",
        "\n",
        "        #Eliminamos el nodo ramificado\n",
        "        nodos =  [x for x in nodos if x['s'] != nodo_prometedor]\n",
        "   \n",
        "    print(\"La solucion final es:\" , mejor_solucion, \" en \" , iteracion , \" iteraciones\" , \" para dimension \", dimension)"
      ],
      "execution_count": 8,
      "outputs": []
    },
    {
      "cell_type": "code",
      "metadata": {
        "colab": {
          "base_uri": "https://localhost:8080/"
        },
        "id": "ziHybDKHGx_l",
        "outputId": "d60af95d-d469-4d94-ed1c-3de96aef14e4"
      },
      "source": [
        "ramificacion_y_poda(costes)"
      ],
      "execution_count": 9,
      "outputs": [
        {
          "output_type": "stream",
          "text": [
            "La solucion final es: [{'s': (1, 2, 0, 3), 'ci': 64}]  en  10  iteraciones  para dimension  4\n"
          ],
          "name": "stdout"
        }
      ]
    },
    {
      "cell_type": "markdown",
      "metadata": {
        "id": "JTC2Az1_G0pq"
      },
      "source": [
        "## __2. Descenso del gradiente__"
      ]
    },
    {
      "cell_type": "code",
      "metadata": {
        "id": "WMbziku8G3Us"
      },
      "source": [
        "import math                      #Funciones matematicas\n",
        "import matplotlib.pyplot as plt  #Generacion de gráficos (otra opcion seaborn)\n",
        "import numpy as np               #Tratamiento matriz N-dimensionales y otras (fundamental!) \n",
        "#import scipy as sc\n",
        "import random"
      ],
      "execution_count": 10,
      "outputs": []
    },
    {
      "cell_type": "markdown",
      "metadata": {
        "id": "MOF0L1TOG8CQ"
      },
      "source": [
        "### _Función:_"
      ]
    },
    {
      "cell_type": "markdown",
      "metadata": {
        "id": "nIYOkqMVG_bx"
      },
      "source": [
        "$$ f(x,y) = x^2 + y^2 $$"
      ]
    },
    {
      "cell_type": "code",
      "metadata": {
        "id": "B_TiW4RIHB_e"
      },
      "source": [
        "#Definimos la funcion\n",
        "#Paraboloide\n",
        "f  = lambda x:      x[0]**2+x[1]**2      #Funcion\n",
        "df = lambda x: [2*x[0] , 2*x[1]]         #Gradiente"
      ],
      "execution_count": 11,
      "outputs": []
    },
    {
      "cell_type": "code",
      "metadata": {
        "colab": {
          "base_uri": "https://localhost:8080/",
          "height": 283
        },
        "id": "yzAI2jWeHEJL",
        "outputId": "f389cbeb-8169-49ec-c00f-39197a5493aa"
      },
      "source": [
        "#Prepara los datos para dibujar mapa de niveles de Z\n",
        "resolucion = 100 \n",
        "rango=2.5\n",
        "X = np.linspace(-rango,rango,resolucion) \n",
        "Y = np.linspace(-rango,rango,resolucion)\n",
        "Z = np.zeros((resolucion,resolucion))\n",
        "\n",
        "for ix,x in enumerate(X):\n",
        "    for iy,y in enumerate(Y):\n",
        "        Z[iy,ix] = f([x,y])\n",
        "\n",
        "#Pinta el mapa de niveles de Z\n",
        "plt.contourf(X,Y,Z,resolucion)\n",
        "plt.colorbar() \n",
        "\n",
        "#Generamos un punto aleatorio\n",
        "P = [random.uniform(-2,2 ),random.uniform(-2,2)]\n",
        "plt.plot(P[0],P[1],\"o\",c=\"white\")\n",
        "\n",
        "#Tasa de aprendizaje\n",
        "TA = 0.1 \n",
        "\n",
        "#Iteraciones\n",
        "for _ in range(500):\n",
        "    grad = df(P)\n",
        "    #print(P,grad)\n",
        "    P[0],P[1] = P[0] - TA*grad[0] , P[1] - TA*grad[1]\n",
        "    plt.plot(P[0],P[1],\"o\",c=\"red\")\n",
        "\n",
        "plt.plot(P[0],P[1],\"o\",c=\"green\")\n",
        "plt.show()\n",
        "print(\"Solucion:\",P,f(P))"
      ],
      "execution_count": 12,
      "outputs": [
        {
          "output_type": "display_data",
          "data": {
            "image/png": "[encoded data removed]",
            "text/plain": [
              "<Figure size 432x288 with 2 Axes>"
            ]
          },
          "metadata": {
            "tags": [],
            "needs_background": "light"
          }
        },
        {
          "output_type": "stream",
          "text": [
            "Solucion: [6.999543431672665e-50, 4.407407248896502e-49] 1.9915174740144148e-97\n"
          ],
          "name": "stdout"
        }
      ]
    }
  ]
}