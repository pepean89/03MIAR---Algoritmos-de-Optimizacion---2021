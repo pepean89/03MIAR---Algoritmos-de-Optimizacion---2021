{
  "nbformat": 4,
  "nbformat_minor": 0,
  "metadata": {
    "colab": {
      "name": "Clase_1_28.05.21.ipynb",
      "provenance": [],
      "authorship_tag": "ABX9TyOZwjTMcWyASmUVBUYyIgCM",
      "include_colab_link": true
    },
    "kernelspec": {
      "name": "python3",
      "display_name": "Python 3"
    },
    "language_info": {
      "name": "python"
    }
  },
  "cells": [
    {
      "cell_type": "markdown",
      "metadata": {
        "id": "view-in-github",
        "colab_type": "text"
      },
      "source": [
        "<a href=\"https://colab.research.google.com/github/pepean89/03MIAR---Algoritmos-de-Optimizacion---2021/blob/main/Clase_1_28_05_21.ipynb\" target=\"_parent\"><img src=\"https://colab.research.google.com/assets/colab-badge.svg\" alt=\"Open In Colab\"/></a>"
      ]
    },
    {
      "cell_type": "code",
      "metadata": {
        "colab": {
          "base_uri": "https://localhost:8080/"
        },
        "id": "SR2FZ7k7IHSz",
        "outputId": "77b33cbf-7c36-4f12-ea73-08b14d066716"
      },
      "source": [
        "A = [1, 2, 6, 7, 12, 13, 15]\n",
        "B = [2, 3, 4, 7, 13]\n",
        "\n",
        "solucion = [x for x in A if x in B]\n",
        "\n",
        "print(solucion)"
      ],
      "execution_count": 3,
      "outputs": [
        {
          "output_type": "stream",
          "text": [
            "[2, 7, 13]\n"
          ],
          "name": "stdout"
        }
      ]
    },
    {
      "cell_type": "code",
      "metadata": {
        "id": "WV5sb_nkSNKm"
      },
      "source": [
        ""
      ],
      "execution_count": null,
      "outputs": []
    }
  ]
}